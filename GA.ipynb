{
 "cells": [
  {
   "cell_type": "markdown",
   "metadata": {},
   "source": [
    "# UX-Анализ сайта\n",
    "### Цели анализа: \n",
    "1. Проанализировать поведение пользователей за некоторый период: куда ходят, что смотрят, что делают, как долго / как глубоко смотрят, после чего уходят и другое.\n",
    "2. Узкие или подозрительные места на сайте: к чему стоит присмотреться внимательнее (понаблюдать дальше), что пора поменять прямо сейчас (неудобно сделано) и др.\n",
    "3. Идеи, какие данные сейчас не трекаются в GA, а следовало бы их трекать, потому что...\n",
    "\n",
    "#### Период анализа: с 2 декабря 2020 года по 2 декабря 2021 года"
   ]
  },
  {
   "cell_type": "markdown",
   "metadata": {},
   "source": [
    "========================================================================================================================="
   ]
  },
  {
   "cell_type": "markdown",
   "metadata": {},
   "source": [
    "## 1. Загрузка данных и импорт библиотек"
   ]
  },
  {
   "cell_type": "code",
   "execution_count": 1,
   "metadata": {},
   "outputs": [],
   "source": [
    "# Импортируем нужные библиотеки\n",
    "import pandas as pd\n",
    "import matplotlib.pyplot as plt\n",
    "import seaborn as sns"
   ]
  },
  {
   "cell_type": "markdown",
   "metadata": {},
   "source": [
    "Подгрузим сюда все excel-файлы, выкачанные из Google Analytics"
   ]
  },
  {
   "cell_type": "code",
   "execution_count": 2,
   "metadata": {},
   "outputs": [],
   "source": [
    "# Таблица с пользователями\n",
    "users = pd.read_excel('User_stats.xlsx', ['Users', 'Language', 'Age', 'Gender'])\n",
    "\n",
    "# Таблица с устройствами и локацией\n",
    "devices = pd.read_excel('Device_data.xlsx', ['DeviceType', 'Location'])\n",
    "\n",
    "# Таблица с данными по поведению пользователей\n",
    "behaviour = pd.read_excel('Behaviour.xlsx', ['Source', 'Depth', 'Duration', 'New_return', 'Pages', 'Active_users'])"
   ]
  },
  {
   "cell_type": "markdown",
   "metadata": {},
   "source": [
    "=========================================================================================================================\n",
    "## 2. Анализ пользователей\n",
    "\n",
    "Для начала изучим нашу целевую аудиторию"
   ]
  },
  {
   "cell_type": "code",
   "execution_count": 3,
   "metadata": {},
   "outputs": [
    {
     "name": "stdout",
     "output_type": "stream",
     "text": [
      "<class 'pandas.core.frame.DataFrame'>\n",
      "RangeIndex: 803 entries, 0 to 802\n",
      "Data columns (total 7 columns):\n",
      " #   Column                      Non-Null Count  Dtype  \n",
      "---  ------                      --------------  -----  \n",
      " 0   Идентификатор клиента       803 non-null    float64\n",
      " 1   Сеансы                      803 non-null    int64  \n",
      " 2   Сред. длительность сеанса   803 non-null    float64\n",
      " 3   Показатель отказов          803 non-null    int64  \n",
      " 4   Доход                       803 non-null    int64  \n",
      " 5   Транзакции                  803 non-null    int64  \n",
      " 6   Коэффициент конверсии цели  803 non-null    float64\n",
      "dtypes: float64(3), int64(4)\n",
      "memory usage: 44.0 KB\n"
     ]
    }
   ],
   "source": [
    "users['Users'].info()"
   ]
  },
  {
   "cell_type": "markdown",
   "metadata": {},
   "source": [
    "В первом датафрейме у нас **803** уникальных пользователя. Заметим, что у нас нет пропущенных значений.\n",
    "Теперь посмотрим, что у нас в самом датафрейме: выведем первые 5 строк"
   ]
  },
  {
   "cell_type": "code",
   "execution_count": 4,
   "metadata": {},
   "outputs": [
    {
     "data": {
      "text/html": [
       "<div>\n",
       "<style scoped>\n",
       "    .dataframe tbody tr th:only-of-type {\n",
       "        vertical-align: middle;\n",
       "    }\n",
       "\n",
       "    .dataframe tbody tr th {\n",
       "        vertical-align: top;\n",
       "    }\n",
       "\n",
       "    .dataframe thead th {\n",
       "        text-align: right;\n",
       "    }\n",
       "</style>\n",
       "<table border=\"1\" class=\"dataframe\">\n",
       "  <thead>\n",
       "    <tr style=\"text-align: right;\">\n",
       "      <th></th>\n",
       "      <th>Идентификатор клиента</th>\n",
       "      <th>Сеансы</th>\n",
       "      <th>Сред. длительность сеанса</th>\n",
       "      <th>Показатель отказов</th>\n",
       "      <th>Доход</th>\n",
       "      <th>Транзакции</th>\n",
       "      <th>Коэффициент конверсии цели</th>\n",
       "    </tr>\n",
       "  </thead>\n",
       "  <tbody>\n",
       "    <tr>\n",
       "      <th>0</th>\n",
       "      <td>1.198341e+09</td>\n",
       "      <td>41</td>\n",
       "      <td>155.878049</td>\n",
       "      <td>0</td>\n",
       "      <td>0</td>\n",
       "      <td>0</td>\n",
       "      <td>0.926829</td>\n",
       "    </tr>\n",
       "    <tr>\n",
       "      <th>1</th>\n",
       "      <td>3.397463e+08</td>\n",
       "      <td>22</td>\n",
       "      <td>280.000000</td>\n",
       "      <td>0</td>\n",
       "      <td>0</td>\n",
       "      <td>0</td>\n",
       "      <td>0.545455</td>\n",
       "    </tr>\n",
       "    <tr>\n",
       "      <th>2</th>\n",
       "      <td>1.764764e+09</td>\n",
       "      <td>20</td>\n",
       "      <td>106.300000</td>\n",
       "      <td>0</td>\n",
       "      <td>0</td>\n",
       "      <td>0</td>\n",
       "      <td>0.300000</td>\n",
       "    </tr>\n",
       "    <tr>\n",
       "      <th>3</th>\n",
       "      <td>5.091727e+08</td>\n",
       "      <td>11</td>\n",
       "      <td>0.545455</td>\n",
       "      <td>0</td>\n",
       "      <td>0</td>\n",
       "      <td>0</td>\n",
       "      <td>0.000000</td>\n",
       "    </tr>\n",
       "    <tr>\n",
       "      <th>4</th>\n",
       "      <td>2.067559e+09</td>\n",
       "      <td>8</td>\n",
       "      <td>0.750000</td>\n",
       "      <td>0</td>\n",
       "      <td>0</td>\n",
       "      <td>0</td>\n",
       "      <td>0.000000</td>\n",
       "    </tr>\n",
       "  </tbody>\n",
       "</table>\n",
       "</div>"
      ],
      "text/plain": [
       "   Идентификатор клиента  Сеансы  Сред. длительность сеанса  \\\n",
       "0           1.198341e+09      41                 155.878049   \n",
       "1           3.397463e+08      22                 280.000000   \n",
       "2           1.764764e+09      20                 106.300000   \n",
       "3           5.091727e+08      11                   0.545455   \n",
       "4           2.067559e+09       8                   0.750000   \n",
       "\n",
       "   Показатель отказов  Доход  Транзакции  Коэффициент конверсии цели  \n",
       "0                   0      0           0                    0.926829  \n",
       "1                   0      0           0                    0.545455  \n",
       "2                   0      0           0                    0.300000  \n",
       "3                   0      0           0                    0.000000  \n",
       "4                   0      0           0                    0.000000  "
      ]
     },
     "execution_count": 4,
     "metadata": {},
     "output_type": "execute_result"
    }
   ],
   "source": [
    "users['Users'].head()"
   ]
  },
  {
   "cell_type": "markdown",
   "metadata": {},
   "source": [
    "При выгрузке с GA мы получаем уже сгруппированные датафреймы. В данном случае он сгруппирован по пользователю.\n",
    "У нас есть столбцы с количеством сеансов, средняя длительность сеанса, показатель отказов, доход и транзакции.\n",
    "\n",
    "Так же есть коэф-т конверсии цели, который в данный момент мы определить не можем и учитывать не будем.\n",
    "\n",
    "Получим данные по основным стат показателям через describe()"
   ]
  },
  {
   "cell_type": "code",
   "execution_count": 5,
   "metadata": {},
   "outputs": [
    {
     "data": {
      "text/html": [
       "<div>\n",
       "<style scoped>\n",
       "    .dataframe tbody tr th:only-of-type {\n",
       "        vertical-align: middle;\n",
       "    }\n",
       "\n",
       "    .dataframe tbody tr th {\n",
       "        vertical-align: top;\n",
       "    }\n",
       "\n",
       "    .dataframe thead th {\n",
       "        text-align: right;\n",
       "    }\n",
       "</style>\n",
       "<table border=\"1\" class=\"dataframe\">\n",
       "  <thead>\n",
       "    <tr style=\"text-align: right;\">\n",
       "      <th></th>\n",
       "      <th>Идентификатор клиента</th>\n",
       "      <th>Сеансы</th>\n",
       "      <th>Сред. длительность сеанса</th>\n",
       "      <th>Показатель отказов</th>\n",
       "      <th>Доход</th>\n",
       "      <th>Транзакции</th>\n",
       "      <th>Коэффициент конверсии цели</th>\n",
       "    </tr>\n",
       "  </thead>\n",
       "  <tbody>\n",
       "    <tr>\n",
       "      <th>count</th>\n",
       "      <td>8.030000e+02</td>\n",
       "      <td>803.000000</td>\n",
       "      <td>803.000000</td>\n",
       "      <td>803.000000</td>\n",
       "      <td>803.0</td>\n",
       "      <td>803.0</td>\n",
       "      <td>803.000000</td>\n",
       "    </tr>\n",
       "    <tr>\n",
       "      <th>mean</th>\n",
       "      <td>1.079216e+09</td>\n",
       "      <td>1.323786</td>\n",
       "      <td>46.170497</td>\n",
       "      <td>0.013699</td>\n",
       "      <td>0.0</td>\n",
       "      <td>0.0</td>\n",
       "      <td>0.156091</td>\n",
       "    </tr>\n",
       "    <tr>\n",
       "      <th>std</th>\n",
       "      <td>6.315912e+08</td>\n",
       "      <td>1.879080</td>\n",
       "      <td>180.566835</td>\n",
       "      <td>0.116309</td>\n",
       "      <td>0.0</td>\n",
       "      <td>0.0</td>\n",
       "      <td>0.460221</td>\n",
       "    </tr>\n",
       "    <tr>\n",
       "      <th>min</th>\n",
       "      <td>6.150793e+06</td>\n",
       "      <td>1.000000</td>\n",
       "      <td>0.000000</td>\n",
       "      <td>0.000000</td>\n",
       "      <td>0.0</td>\n",
       "      <td>0.0</td>\n",
       "      <td>0.000000</td>\n",
       "    </tr>\n",
       "    <tr>\n",
       "      <th>25%</th>\n",
       "      <td>5.065441e+08</td>\n",
       "      <td>1.000000</td>\n",
       "      <td>0.000000</td>\n",
       "      <td>0.000000</td>\n",
       "      <td>0.0</td>\n",
       "      <td>0.0</td>\n",
       "      <td>0.000000</td>\n",
       "    </tr>\n",
       "    <tr>\n",
       "      <th>50%</th>\n",
       "      <td>1.095813e+09</td>\n",
       "      <td>1.000000</td>\n",
       "      <td>10.000000</td>\n",
       "      <td>0.000000</td>\n",
       "      <td>0.0</td>\n",
       "      <td>0.0</td>\n",
       "      <td>0.000000</td>\n",
       "    </tr>\n",
       "    <tr>\n",
       "      <th>75%</th>\n",
       "      <td>1.638227e+09</td>\n",
       "      <td>1.000000</td>\n",
       "      <td>11.000000</td>\n",
       "      <td>0.000000</td>\n",
       "      <td>0.0</td>\n",
       "      <td>0.0</td>\n",
       "      <td>0.000000</td>\n",
       "    </tr>\n",
       "    <tr>\n",
       "      <th>max</th>\n",
       "      <td>2.147305e+09</td>\n",
       "      <td>41.000000</td>\n",
       "      <td>2150.500000</td>\n",
       "      <td>1.000000</td>\n",
       "      <td>0.0</td>\n",
       "      <td>0.0</td>\n",
       "      <td>4.000000</td>\n",
       "    </tr>\n",
       "  </tbody>\n",
       "</table>\n",
       "</div>"
      ],
      "text/plain": [
       "       Идентификатор клиента      Сеансы  Сред. длительность сеанса  \\\n",
       "count           8.030000e+02  803.000000                 803.000000   \n",
       "mean            1.079216e+09    1.323786                  46.170497   \n",
       "std             6.315912e+08    1.879080                 180.566835   \n",
       "min             6.150793e+06    1.000000                   0.000000   \n",
       "25%             5.065441e+08    1.000000                   0.000000   \n",
       "50%             1.095813e+09    1.000000                  10.000000   \n",
       "75%             1.638227e+09    1.000000                  11.000000   \n",
       "max             2.147305e+09   41.000000                2150.500000   \n",
       "\n",
       "       Показатель отказов  Доход  Транзакции  Коэффициент конверсии цели  \n",
       "count          803.000000  803.0       803.0                  803.000000  \n",
       "mean             0.013699    0.0         0.0                    0.156091  \n",
       "std              0.116309    0.0         0.0                    0.460221  \n",
       "min              0.000000    0.0         0.0                    0.000000  \n",
       "25%              0.000000    0.0         0.0                    0.000000  \n",
       "50%              0.000000    0.0         0.0                    0.000000  \n",
       "75%              0.000000    0.0         0.0                    0.000000  \n",
       "max              1.000000    0.0         0.0                    4.000000  "
      ]
     },
     "execution_count": 5,
     "metadata": {},
     "output_type": "execute_result"
    }
   ],
   "source": [
    "users['Users'].describe()"
   ]
  },
  {
   "cell_type": "markdown",
   "metadata": {},
   "source": [
    "**Ключевая статистика:**\n",
    "\n",
    "1. **1.32** сеанса на пользователя\n",
    "2. **46.17** секунд - средняя длительность сеанса\n",
    "3. **1.3%** средний показатель отказов\n",
    "4. У нас нет ни дохода, ни транзакций за этот период времени\n",
    "\n",
    "**Важно:**\n",
    "по текущим данным у нас есть отличие в средней продолжительности сеанса. В гугл аналитике мы видим **1 мин. 15 секунд**, в то время как в выгруженных данных по пользователям у нас **46.17 секунд**. Этот момент требует дальнейшего рассмотрения."
   ]
  },
  {
   "cell_type": "code",
   "execution_count": 6,
   "metadata": {},
   "outputs": [
    {
     "data": {
      "text/plain": [
       "0.14196762141967623"
      ]
     },
     "execution_count": 6,
     "metadata": {},
     "output_type": "execute_result"
    }
   ],
   "source": [
    "# Посчитаем долю пользователей, имевших более 1 сеанса\n",
    "users['Users'][users['Users']['Сеансы'] > 1]['Идентификатор клиента'].count()/users['Users']['Идентификатор клиента'].count()"
   ]
  },
  {
   "cell_type": "markdown",
   "metadata": {},
   "source": [
    "Т.е. доля пользователей, имевших более 1 сеанса равна **14.2%**\n",
    "\n",
    "**Гипотеза:**\n",
    "Пользователи дальше начальной страницы (точки входа) не идут. Далее мы к этому вернемся, а пока продолжим изучать нашу ЦА"
   ]
  },
  {
   "cell_type": "markdown",
   "metadata": {},
   "source": [
    "=========================================================================================================================\n",
    "### Языковые группы"
   ]
  },
  {
   "cell_type": "code",
   "execution_count": 7,
   "metadata": {},
   "outputs": [
    {
     "name": "stdout",
     "output_type": "stream",
     "text": [
      "<class 'pandas.core.frame.DataFrame'>\n",
      "RangeIndex: 10 entries, 0 to 9\n",
      "Data columns (total 10 columns):\n",
      " #   Column                                                Non-Null Count  Dtype  \n",
      "---  ------                                                --------------  -----  \n",
      " 0   Язык                                                  10 non-null     object \n",
      " 1   Пользователи                                          10 non-null     int64  \n",
      " 2   Новые пользователи                                    10 non-null     int64  \n",
      " 3   Сеансы                                                10 non-null     int64  \n",
      " 4   Показатель отказов                                    10 non-null     float64\n",
      " 5   Страниц/сеанс                                         10 non-null     float64\n",
      " 6   Сред. длительность сеанса                             10 non-null     float64\n",
      " 7   Visit Social nets (Коэффициент конверсии для цели 1)  10 non-null     float64\n",
      " 8   Visit Social nets (Достигнутые переходы к цели 1)     10 non-null     int64  \n",
      " 9   Visit Social nets (Ценность цели 1)                   10 non-null     int64  \n",
      "dtypes: float64(4), int64(5), object(1)\n",
      "memory usage: 928.0+ bytes\n"
     ]
    }
   ],
   "source": [
    "# Посмотрим на датафрейм language\n",
    "users['Language'].info()"
   ]
  },
  {
   "cell_type": "markdown",
   "metadata": {},
   "source": [
    "В датафрейме у нас **10** уникальных языковых групп и нет пропущенных значений."
   ]
  },
  {
   "cell_type": "code",
   "execution_count": 8,
   "metadata": {},
   "outputs": [
    {
     "data": {
      "text/html": [
       "<div>\n",
       "<style scoped>\n",
       "    .dataframe tbody tr th:only-of-type {\n",
       "        vertical-align: middle;\n",
       "    }\n",
       "\n",
       "    .dataframe tbody tr th {\n",
       "        vertical-align: top;\n",
       "    }\n",
       "\n",
       "    .dataframe thead th {\n",
       "        text-align: right;\n",
       "    }\n",
       "</style>\n",
       "<table border=\"1\" class=\"dataframe\">\n",
       "  <thead>\n",
       "    <tr style=\"text-align: right;\">\n",
       "      <th></th>\n",
       "      <th>Язык</th>\n",
       "      <th>Пользователи</th>\n",
       "      <th>Новые пользователи</th>\n",
       "      <th>Сеансы</th>\n",
       "      <th>Показатель отказов</th>\n",
       "      <th>Страниц/сеанс</th>\n",
       "      <th>Сред. длительность сеанса</th>\n",
       "      <th>Visit Social nets (Коэффициент конверсии для цели 1)</th>\n",
       "      <th>Visit Social nets (Достигнутые переходы к цели 1)</th>\n",
       "      <th>Visit Social nets (Ценность цели 1)</th>\n",
       "    </tr>\n",
       "  </thead>\n",
       "  <tbody>\n",
       "    <tr>\n",
       "      <th>0</th>\n",
       "      <td>ru-ru</td>\n",
       "      <td>218</td>\n",
       "      <td>217</td>\n",
       "      <td>376</td>\n",
       "      <td>0.002660</td>\n",
       "      <td>3.686170</td>\n",
       "      <td>148.039894</td>\n",
       "      <td>0.018617</td>\n",
       "      <td>7</td>\n",
       "      <td>0</td>\n",
       "    </tr>\n",
       "    <tr>\n",
       "      <th>1</th>\n",
       "      <td>en-us</td>\n",
       "      <td>201</td>\n",
       "      <td>201</td>\n",
       "      <td>231</td>\n",
       "      <td>0.000000</td>\n",
       "      <td>2.103896</td>\n",
       "      <td>20.991342</td>\n",
       "      <td>0.000000</td>\n",
       "      <td>0</td>\n",
       "      <td>0</td>\n",
       "    </tr>\n",
       "    <tr>\n",
       "      <th>2</th>\n",
       "      <td>en-gb</td>\n",
       "      <td>96</td>\n",
       "      <td>96</td>\n",
       "      <td>109</td>\n",
       "      <td>0.000000</td>\n",
       "      <td>2.403670</td>\n",
       "      <td>29.541284</td>\n",
       "      <td>0.018349</td>\n",
       "      <td>2</td>\n",
       "      <td>0</td>\n",
       "    </tr>\n",
       "    <tr>\n",
       "      <th>3</th>\n",
       "      <td>zh-cn</td>\n",
       "      <td>85</td>\n",
       "      <td>85</td>\n",
       "      <td>90</td>\n",
       "      <td>0.111111</td>\n",
       "      <td>1.888889</td>\n",
       "      <td>0.511111</td>\n",
       "      <td>0.000000</td>\n",
       "      <td>0</td>\n",
       "      <td>0</td>\n",
       "    </tr>\n",
       "    <tr>\n",
       "      <th>4</th>\n",
       "      <td>ru</td>\n",
       "      <td>64</td>\n",
       "      <td>64</td>\n",
       "      <td>96</td>\n",
       "      <td>0.000000</td>\n",
       "      <td>3.177083</td>\n",
       "      <td>137.583333</td>\n",
       "      <td>0.052083</td>\n",
       "      <td>5</td>\n",
       "      <td>0</td>\n",
       "    </tr>\n",
       "    <tr>\n",
       "      <th>5</th>\n",
       "      <td>de</td>\n",
       "      <td>9</td>\n",
       "      <td>9</td>\n",
       "      <td>11</td>\n",
       "      <td>0.000000</td>\n",
       "      <td>2.000000</td>\n",
       "      <td>9.909091</td>\n",
       "      <td>0.000000</td>\n",
       "      <td>0</td>\n",
       "      <td>0</td>\n",
       "    </tr>\n",
       "    <tr>\n",
       "      <th>6</th>\n",
       "      <td>fr-fr</td>\n",
       "      <td>9</td>\n",
       "      <td>9</td>\n",
       "      <td>10</td>\n",
       "      <td>0.000000</td>\n",
       "      <td>2.000000</td>\n",
       "      <td>10.100000</td>\n",
       "      <td>0.000000</td>\n",
       "      <td>0</td>\n",
       "      <td>0</td>\n",
       "    </tr>\n",
       "    <tr>\n",
       "      <th>7</th>\n",
       "      <td>it-it</td>\n",
       "      <td>9</td>\n",
       "      <td>9</td>\n",
       "      <td>10</td>\n",
       "      <td>0.000000</td>\n",
       "      <td>2.000000</td>\n",
       "      <td>9.900000</td>\n",
       "      <td>0.000000</td>\n",
       "      <td>0</td>\n",
       "      <td>0</td>\n",
       "    </tr>\n",
       "    <tr>\n",
       "      <th>8</th>\n",
       "      <td>fr</td>\n",
       "      <td>8</td>\n",
       "      <td>8</td>\n",
       "      <td>8</td>\n",
       "      <td>0.000000</td>\n",
       "      <td>2.000000</td>\n",
       "      <td>9.875000</td>\n",
       "      <td>0.000000</td>\n",
       "      <td>0</td>\n",
       "      <td>0</td>\n",
       "    </tr>\n",
       "    <tr>\n",
       "      <th>9</th>\n",
       "      <td>de-de</td>\n",
       "      <td>7</td>\n",
       "      <td>7</td>\n",
       "      <td>8</td>\n",
       "      <td>0.000000</td>\n",
       "      <td>2.000000</td>\n",
       "      <td>10.500000</td>\n",
       "      <td>0.000000</td>\n",
       "      <td>0</td>\n",
       "      <td>0</td>\n",
       "    </tr>\n",
       "  </tbody>\n",
       "</table>\n",
       "</div>"
      ],
      "text/plain": [
       "    Язык  Пользователи  Новые пользователи  Сеансы  Показатель отказов  \\\n",
       "0  ru-ru           218                 217     376            0.002660   \n",
       "1  en-us           201                 201     231            0.000000   \n",
       "2  en-gb            96                  96     109            0.000000   \n",
       "3  zh-cn            85                  85      90            0.111111   \n",
       "4     ru            64                  64      96            0.000000   \n",
       "5     de             9                   9      11            0.000000   \n",
       "6  fr-fr             9                   9      10            0.000000   \n",
       "7  it-it             9                   9      10            0.000000   \n",
       "8     fr             8                   8       8            0.000000   \n",
       "9  de-de             7                   7       8            0.000000   \n",
       "\n",
       "   Страниц/сеанс  Сред. длительность сеанса  \\\n",
       "0       3.686170                 148.039894   \n",
       "1       2.103896                  20.991342   \n",
       "2       2.403670                  29.541284   \n",
       "3       1.888889                   0.511111   \n",
       "4       3.177083                 137.583333   \n",
       "5       2.000000                   9.909091   \n",
       "6       2.000000                  10.100000   \n",
       "7       2.000000                   9.900000   \n",
       "8       2.000000                   9.875000   \n",
       "9       2.000000                  10.500000   \n",
       "\n",
       "   Visit Social nets (Коэффициент конверсии для цели 1)  \\\n",
       "0                                           0.018617      \n",
       "1                                           0.000000      \n",
       "2                                           0.018349      \n",
       "3                                           0.000000      \n",
       "4                                           0.052083      \n",
       "5                                           0.000000      \n",
       "6                                           0.000000      \n",
       "7                                           0.000000      \n",
       "8                                           0.000000      \n",
       "9                                           0.000000      \n",
       "\n",
       "   Visit Social nets (Достигнутые переходы к цели 1)  \\\n",
       "0                                                  7   \n",
       "1                                                  0   \n",
       "2                                                  2   \n",
       "3                                                  0   \n",
       "4                                                  5   \n",
       "5                                                  0   \n",
       "6                                                  0   \n",
       "7                                                  0   \n",
       "8                                                  0   \n",
       "9                                                  0   \n",
       "\n",
       "   Visit Social nets (Ценность цели 1)  \n",
       "0                                    0  \n",
       "1                                    0  \n",
       "2                                    0  \n",
       "3                                    0  \n",
       "4                                    0  \n",
       "5                                    0  \n",
       "6                                    0  \n",
       "7                                    0  \n",
       "8                                    0  \n",
       "9                                    0  "
      ]
     },
     "execution_count": 8,
     "metadata": {},
     "output_type": "execute_result"
    }
   ],
   "source": [
    "users['Language']"
   ]
  },
  {
   "cell_type": "code",
   "execution_count": 9,
   "metadata": {},
   "outputs": [
    {
     "data": {
      "text/plain": [
       "706"
      ]
     },
     "execution_count": 9,
     "metadata": {},
     "output_type": "execute_result"
    }
   ],
   "source": [
    "# Посчитаем количество пользователей\n",
    "users['Language']['Пользователи'].sum()"
   ]
  },
  {
   "cell_type": "markdown",
   "metadata": {},
   "source": [
    "Данные:\n",
    "\n",
    "1) Пользователей всего **706** из **803** - значит не у всех пользователей система определила язык.\n",
    " \n",
    "2) Столбцы \"Пользователи\" и \"Новые пользователи\" практически ничем не отличаются (разница в одного пользователя в одной строке)\n",
    "\n",
    "3) Построим столбчатые диаграммы по Пользователям, Сеансам, Страниц/сеанс и Сред. длительность сеанса.\n",
    "\n",
    "**Важно:** Будем рассматривать только топ пять групп, так как остальные 5 занимают незначительную долю в целом.\n"
   ]
  },
  {
   "cell_type": "code",
   "execution_count": 10,
   "metadata": {},
   "outputs": [
    {
     "data": {
      "text/plain": [
       "Text(0.5, 1.0, 'Сеансы')"
      ]
     },
     "execution_count": 10,
     "metadata": {},
     "output_type": "execute_result"
    },
    {
     "data": {
      "image/png": "[encoded data removed]",
      "text/plain": [
       "<Figure size 864x864 with 4 Axes>"
      ]
     },
     "metadata": {
      "needs_background": "light"
     },
     "output_type": "display_data"
    }
   ],
   "source": [
    "fig, axes = plt.subplots(2, 2, figsize=(12, 12))\n",
    "fig.suptitle('Данные по языковым группам')\n",
    "\n",
    "sns.barplot(ax = axes[0, 0], x = 'Язык', y = 'Пользователи', data = users['Language'].head(5))\n",
    "axes[0, 0].set_title('Пользователи')\n",
    "\n",
    "sns.barplot(ax = axes[0, 1], x = 'Язык', y = 'Сеансы', data = users['Language'].head(5))\n",
    "axes[0, 1].set_title('Сеансы')\n",
    "\n",
    "sns.barplot(ax = axes[1, 0], x = 'Язык', y = 'Страниц/сеанс', data = users['Language'].head(5))\n",
    "axes[1, 0].set_title('Пользователи')\n",
    "\n",
    "sns.barplot(ax = axes[1, 1], x = 'Язык', y = 'Сред. длительность сеанса', data = users['Language'].head(5))\n",
    "axes[1, 1].set_title('Сеансы')"
   ]
  },
  {
   "cell_type": "code",
   "execution_count": 11,
   "metadata": {},
   "outputs": [
    {
     "name": "stdout",
     "output_type": "stream",
     "text": [
      "35.1% - доля пользователей с русским языком \n",
      "37.0% - доля пользователей с английским языком\n"
     ]
    }
   ],
   "source": [
    "# Доля пользователей с русским языком\n",
    "rus = users['Language'][(users['Language']['Язык'] == 'ru-ru') | (users['Language']['Язык'] == 'ru')]['Пользователи'].sum()/803\n",
    "# Доля пользователей с английским языком\n",
    "eng = users['Language'][(users['Language']['Язык'] == 'en-us') | (users['Language']['Язык'] == 'en-gb')]['Пользователи'].sum()/803\n",
    "\n",
    "print('{:.1%} - доля пользователей с русским языком \\n{:.1%} - доля пользователей с английским языком'.format(rus, eng))\n"
   ]
  },
  {
   "cell_type": "markdown",
   "metadata": {},
   "source": [
    "**Выводы:**\n",
    "\n",
    "1) Как показывают рассчеты, английский язык занимает у нас большую долю от пользователей\n",
    "\n",
    "2) Доля русского языка на **1.9%** меньше.\n",
    "\n",
    "3) Так как у нас из **803** пользователей язык не определен для **97**. То окночательную пропорцию мы не знаем. Будем считать доли равными.\n",
    "\n",
    "4) Последний язык - это китайский. Скорее всего пользователи попали по ошибке.\n",
    "\n"
   ]
  },
  {
   "cell_type": "markdown",
   "metadata": {},
   "source": [
    "### Рекомендации\n",
    "\n",
    "Сделать 2 языка на сайте и возможность переключаться на нужный язык (русский или английский)"
   ]
  },
  {
   "cell_type": "markdown",
   "metadata": {},
   "source": [
    "=========================================================================================================================\n",
    "### Возрастные группы"
   ]
  },
  {
   "cell_type": "code",
   "execution_count": 12,
   "metadata": {},
   "outputs": [
    {
     "name": "stdout",
     "output_type": "stream",
     "text": [
      "<class 'pandas.core.frame.DataFrame'>\n",
      "RangeIndex: 4 entries, 0 to 3\n",
      "Data columns (total 10 columns):\n",
      " #   Column                                                Non-Null Count  Dtype  \n",
      "---  ------                                                --------------  -----  \n",
      " 0   Возраст                                               4 non-null      object \n",
      " 1   Пользователи                                          4 non-null      int64  \n",
      " 2   Новые пользователи                                    4 non-null      int64  \n",
      " 3   Сеансы                                                4 non-null      int64  \n",
      " 4   Показатель отказов                                    4 non-null      int64  \n",
      " 5   Страниц/сеанс                                         4 non-null      float64\n",
      " 6   Сред. длительность сеанса                             4 non-null      float64\n",
      " 7   Visit Social nets (Коэффициент конверсии для цели 1)  4 non-null      float64\n",
      " 8   Visit Social nets (Достигнутые переходы к цели 1)     4 non-null      int64  \n",
      " 9   Visit Social nets (Ценность цели 1)                   4 non-null      int64  \n",
      "dtypes: float64(3), int64(6), object(1)\n",
      "memory usage: 448.0+ bytes\n"
     ]
    }
   ],
   "source": [
    "users['Age'].info()"
   ]
  },
  {
   "cell_type": "markdown",
   "metadata": {},
   "source": [
    "В датафрейме у нас **4** возрастные группы и отсутвуют пропущенные значения."
   ]
  },
  {
   "cell_type": "code",
   "execution_count": 13,
   "metadata": {},
   "outputs": [
    {
     "data": {
      "text/html": [
       "<div>\n",
       "<style scoped>\n",
       "    .dataframe tbody tr th:only-of-type {\n",
       "        vertical-align: middle;\n",
       "    }\n",
       "\n",
       "    .dataframe tbody tr th {\n",
       "        vertical-align: top;\n",
       "    }\n",
       "\n",
       "    .dataframe thead th {\n",
       "        text-align: right;\n",
       "    }\n",
       "</style>\n",
       "<table border=\"1\" class=\"dataframe\">\n",
       "  <thead>\n",
       "    <tr style=\"text-align: right;\">\n",
       "      <th></th>\n",
       "      <th>Возраст</th>\n",
       "      <th>Пользователи</th>\n",
       "      <th>Новые пользователи</th>\n",
       "      <th>Сеансы</th>\n",
       "      <th>Показатель отказов</th>\n",
       "      <th>Страниц/сеанс</th>\n",
       "      <th>Сред. длительность сеанса</th>\n",
       "      <th>Visit Social nets (Коэффициент конверсии для цели 1)</th>\n",
       "      <th>Visit Social nets (Достигнутые переходы к цели 1)</th>\n",
       "      <th>Visit Social nets (Ценность цели 1)</th>\n",
       "    </tr>\n",
       "  </thead>\n",
       "  <tbody>\n",
       "    <tr>\n",
       "      <th>0</th>\n",
       "      <td>25-34</td>\n",
       "      <td>39</td>\n",
       "      <td>37</td>\n",
       "      <td>70</td>\n",
       "      <td>0</td>\n",
       "      <td>3.971429</td>\n",
       "      <td>229.671429</td>\n",
       "      <td>0.042857</td>\n",
       "      <td>3</td>\n",
       "      <td>0</td>\n",
       "    </tr>\n",
       "    <tr>\n",
       "      <th>1</th>\n",
       "      <td>18-24</td>\n",
       "      <td>27</td>\n",
       "      <td>25</td>\n",
       "      <td>43</td>\n",
       "      <td>0</td>\n",
       "      <td>3.720930</td>\n",
       "      <td>256.395349</td>\n",
       "      <td>0.000000</td>\n",
       "      <td>0</td>\n",
       "      <td>0</td>\n",
       "    </tr>\n",
       "    <tr>\n",
       "      <th>2</th>\n",
       "      <td>35-44</td>\n",
       "      <td>18</td>\n",
       "      <td>15</td>\n",
       "      <td>54</td>\n",
       "      <td>0</td>\n",
       "      <td>2.518519</td>\n",
       "      <td>75.574074</td>\n",
       "      <td>0.018519</td>\n",
       "      <td>1</td>\n",
       "      <td>0</td>\n",
       "    </tr>\n",
       "    <tr>\n",
       "      <th>3</th>\n",
       "      <td>45-54</td>\n",
       "      <td>14</td>\n",
       "      <td>14</td>\n",
       "      <td>18</td>\n",
       "      <td>0</td>\n",
       "      <td>3.444444</td>\n",
       "      <td>36.444444</td>\n",
       "      <td>0.055556</td>\n",
       "      <td>1</td>\n",
       "      <td>0</td>\n",
       "    </tr>\n",
       "  </tbody>\n",
       "</table>\n",
       "</div>"
      ],
      "text/plain": [
       "  Возраст  Пользователи  Новые пользователи  Сеансы  Показатель отказов  \\\n",
       "0   25-34            39                  37      70                   0   \n",
       "1   18-24            27                  25      43                   0   \n",
       "2   35-44            18                  15      54                   0   \n",
       "3   45-54            14                  14      18                   0   \n",
       "\n",
       "   Страниц/сеанс  Сред. длительность сеанса  \\\n",
       "0       3.971429                 229.671429   \n",
       "1       3.720930                 256.395349   \n",
       "2       2.518519                  75.574074   \n",
       "3       3.444444                  36.444444   \n",
       "\n",
       "   Visit Social nets (Коэффициент конверсии для цели 1)  \\\n",
       "0                                           0.042857      \n",
       "1                                           0.000000      \n",
       "2                                           0.018519      \n",
       "3                                           0.055556      \n",
       "\n",
       "   Visit Social nets (Достигнутые переходы к цели 1)  \\\n",
       "0                                                  3   \n",
       "1                                                  0   \n",
       "2                                                  1   \n",
       "3                                                  1   \n",
       "\n",
       "   Visit Social nets (Ценность цели 1)  \n",
       "0                                    0  \n",
       "1                                    0  \n",
       "2                                    0  \n",
       "3                                    0  "
      ]
     },
     "execution_count": 13,
     "metadata": {},
     "output_type": "execute_result"
    }
   ],
   "source": [
    "users['Age']"
   ]
  },
  {
   "cell_type": "code",
   "execution_count": 14,
   "metadata": {},
   "outputs": [
    {
     "name": "stdout",
     "output_type": "stream",
     "text": [
      "Доля пользователей, попавших в возрастную группу от всего числа пользователей 12.2%\n"
     ]
    }
   ],
   "source": [
    "print('Доля пользователей, попавших в возрастную группу от всего числа пользователей {:.1%}'.format(users['Age']['Пользователи'].sum()/803))"
   ]
  },
  {
   "cell_type": "markdown",
   "metadata": {},
   "source": [
    "**Выводы:**\n",
    "\n",
    "В возрастные группы у нас попало только **12.2%** пользователей от общего числа. Сейчас мы не можем однозначно выделить нашу целевую аудиторию по возрасту. Стоит предприянять шаги для отслеживания возраста, чтобы определить ЦА по возрасту."
   ]
  },
  {
   "cell_type": "markdown",
   "metadata": {},
   "source": [
    "=========================================================================================================================\n",
    "### Гендерные группы"
   ]
  },
  {
   "cell_type": "code",
   "execution_count": 15,
   "metadata": {},
   "outputs": [
    {
     "name": "stdout",
     "output_type": "stream",
     "text": [
      "<class 'pandas.core.frame.DataFrame'>\n",
      "RangeIndex: 2 entries, 0 to 1\n",
      "Data columns (total 10 columns):\n",
      " #   Column                                                Non-Null Count  Dtype  \n",
      "---  ------                                                --------------  -----  \n",
      " 0   Пол                                                   2 non-null      object \n",
      " 1   Пользователи                                          2 non-null      int64  \n",
      " 2   Новые пользователи                                    2 non-null      int64  \n",
      " 3   Сеансы                                                2 non-null      int64  \n",
      " 4   Показатель отказов                                    2 non-null      int64  \n",
      " 5   Страниц/сеанс                                         2 non-null      float64\n",
      " 6   Сред. длительность сеанса                             2 non-null      float64\n",
      " 7   Visit Social nets (Коэффициент конверсии для цели 1)  2 non-null      float64\n",
      " 8   Visit Social nets (Достигнутые переходы к цели 1)     2 non-null      int64  \n",
      " 9   Visit Social nets (Ценность цели 1)                   2 non-null      int64  \n",
      "dtypes: float64(3), int64(6), object(1)\n",
      "memory usage: 288.0+ bytes\n"
     ]
    }
   ],
   "source": [
    "users['Gender'].info()"
   ]
  },
  {
   "cell_type": "markdown",
   "metadata": {},
   "source": [
    "В датафрейме у нас **2** группы и отсутвуют пропущенные значения."
   ]
  },
  {
   "cell_type": "code",
   "execution_count": 16,
   "metadata": {},
   "outputs": [
    {
     "data": {
      "text/html": [
       "<div>\n",
       "<style scoped>\n",
       "    .dataframe tbody tr th:only-of-type {\n",
       "        vertical-align: middle;\n",
       "    }\n",
       "\n",
       "    .dataframe tbody tr th {\n",
       "        vertical-align: top;\n",
       "    }\n",
       "\n",
       "    .dataframe thead th {\n",
       "        text-align: right;\n",
       "    }\n",
       "</style>\n",
       "<table border=\"1\" class=\"dataframe\">\n",
       "  <thead>\n",
       "    <tr style=\"text-align: right;\">\n",
       "      <th></th>\n",
       "      <th>Пол</th>\n",
       "      <th>Пользователи</th>\n",
       "      <th>Новые пользователи</th>\n",
       "      <th>Сеансы</th>\n",
       "      <th>Показатель отказов</th>\n",
       "      <th>Страниц/сеанс</th>\n",
       "      <th>Сред. длительность сеанса</th>\n",
       "      <th>Visit Social nets (Коэффициент конверсии для цели 1)</th>\n",
       "      <th>Visit Social nets (Достигнутые переходы к цели 1)</th>\n",
       "      <th>Visit Social nets (Ценность цели 1)</th>\n",
       "    </tr>\n",
       "  </thead>\n",
       "  <tbody>\n",
       "    <tr>\n",
       "      <th>0</th>\n",
       "      <td>female</td>\n",
       "      <td>56</td>\n",
       "      <td>54</td>\n",
       "      <td>95</td>\n",
       "      <td>0</td>\n",
       "      <td>3.494737</td>\n",
       "      <td>114.778947</td>\n",
       "      <td>0.021053</td>\n",
       "      <td>2</td>\n",
       "      <td>0</td>\n",
       "    </tr>\n",
       "    <tr>\n",
       "      <th>1</th>\n",
       "      <td>male</td>\n",
       "      <td>54</td>\n",
       "      <td>53</td>\n",
       "      <td>113</td>\n",
       "      <td>0</td>\n",
       "      <td>3.433628</td>\n",
       "      <td>222.955752</td>\n",
       "      <td>0.035398</td>\n",
       "      <td>4</td>\n",
       "      <td>0</td>\n",
       "    </tr>\n",
       "  </tbody>\n",
       "</table>\n",
       "</div>"
      ],
      "text/plain": [
       "      Пол  Пользователи  Новые пользователи  Сеансы  Показатель отказов  \\\n",
       "0  female            56                  54      95                   0   \n",
       "1    male            54                  53     113                   0   \n",
       "\n",
       "   Страниц/сеанс  Сред. длительность сеанса  \\\n",
       "0       3.494737                 114.778947   \n",
       "1       3.433628                 222.955752   \n",
       "\n",
       "   Visit Social nets (Коэффициент конверсии для цели 1)  \\\n",
       "0                                           0.021053      \n",
       "1                                           0.035398      \n",
       "\n",
       "   Visit Social nets (Достигнутые переходы к цели 1)  \\\n",
       "0                                                  2   \n",
       "1                                                  4   \n",
       "\n",
       "   Visit Social nets (Ценность цели 1)  \n",
       "0                                    0  \n",
       "1                                    0  "
      ]
     },
     "execution_count": 16,
     "metadata": {},
     "output_type": "execute_result"
    }
   ],
   "source": [
    "users['Gender']"
   ]
  },
  {
   "cell_type": "code",
   "execution_count": 17,
   "metadata": {},
   "outputs": [
    {
     "name": "stdout",
     "output_type": "stream",
     "text": [
      "Доля пользователей, попавших в гендерную группу от всего числа пользователей 13.7%\n"
     ]
    }
   ],
   "source": [
    "print('Доля пользователей, попавших в гендерную группу от всего числа пользователей {:.1%}'.format(users['Gender']['Пользователи'].sum()/803))"
   ]
  },
  {
   "cell_type": "markdown",
   "metadata": {},
   "source": [
    "**Выводы:**\n",
    "\n",
    "Здесь мы тоже не можем однозначно сказать какое распределение по полу у нашей ЦА.\n",
    "Но поскольку контент сайта не предполагает какую-то гендерную тематику, мы эти данные использовать не будем"
   ]
  },
  {
   "cell_type": "markdown",
   "metadata": {},
   "source": [
    "###  Рекомендации\n",
    "\n",
    "Необходимо отслеживать пол и возраст на каждой странице сайта, чтобы четко определить ЦА по каждому направлению деятельности.\n",
    "Такой подход поможет в будущем четче сформулировать предложения по ЦА с целью максимальной заинтересованности у конкретных пользователей"
   ]
  },
  {
   "cell_type": "markdown",
   "metadata": {},
   "source": [
    "=========================================================================================================================\n",
    "\n",
    "Теперь рассмотрим данные из таблицы по устройствам пользователей\n",
    "\n",
    "###  Тип устройства"
   ]
  },
  {
   "cell_type": "code",
   "execution_count": 18,
   "metadata": {},
   "outputs": [
    {
     "name": "stdout",
     "output_type": "stream",
     "text": [
      "<class 'pandas.core.frame.DataFrame'>\n",
      "RangeIndex: 3 entries, 0 to 2\n",
      "Data columns (total 10 columns):\n",
      " #   Column                                                Non-Null Count  Dtype  \n",
      "---  ------                                                --------------  -----  \n",
      " 0   Тип устройства                                        3 non-null      object \n",
      " 1   Пользователи                                          3 non-null      int64  \n",
      " 2   Новые пользователи                                    3 non-null      int64  \n",
      " 3   Сеансы                                                3 non-null      int64  \n",
      " 4   Показатель отказов                                    3 non-null      float64\n",
      " 5   Страниц/сеанс                                         3 non-null      float64\n",
      " 6   Сред. длительность сеанса                             3 non-null      float64\n",
      " 7   Visit Social nets (Коэффициент конверсии для цели 1)  3 non-null      float64\n",
      " 8   Visit Social nets (Достигнутые переходы к цели 1)     3 non-null      int64  \n",
      " 9   Visit Social nets (Ценность цели 1)                   3 non-null      int64  \n",
      "dtypes: float64(4), int64(5), object(1)\n",
      "memory usage: 368.0+ bytes\n"
     ]
    }
   ],
   "source": [
    "devices['DeviceType'].info()"
   ]
  },
  {
   "cell_type": "markdown",
   "metadata": {},
   "source": [
    "В датафрейме у нас **3** типа устройства.\n",
    "У нас нет пропущенных значений. Теперь посчитаем количество пользователей"
   ]
  },
  {
   "cell_type": "code",
   "execution_count": 19,
   "metadata": {},
   "outputs": [
    {
     "data": {
      "text/plain": [
       "803"
      ]
     },
     "execution_count": 19,
     "metadata": {},
     "output_type": "execute_result"
    }
   ],
   "source": [
    "devices['DeviceType']['Пользователи'].sum()"
   ]
  },
  {
   "cell_type": "markdown",
   "metadata": {},
   "source": [
    "Как видим из количества пользователей: все 803 пользователя определены в категорию по типу устройства"
   ]
  },
  {
   "cell_type": "code",
   "execution_count": 20,
   "metadata": {},
   "outputs": [
    {
     "data": {
      "text/html": [
       "<div>\n",
       "<style scoped>\n",
       "    .dataframe tbody tr th:only-of-type {\n",
       "        vertical-align: middle;\n",
       "    }\n",
       "\n",
       "    .dataframe tbody tr th {\n",
       "        vertical-align: top;\n",
       "    }\n",
       "\n",
       "    .dataframe thead th {\n",
       "        text-align: right;\n",
       "    }\n",
       "</style>\n",
       "<table border=\"1\" class=\"dataframe\">\n",
       "  <thead>\n",
       "    <tr style=\"text-align: right;\">\n",
       "      <th></th>\n",
       "      <th>Тип устройства</th>\n",
       "      <th>Пользователи</th>\n",
       "      <th>Новые пользователи</th>\n",
       "      <th>Сеансы</th>\n",
       "      <th>Показатель отказов</th>\n",
       "      <th>Страниц/сеанс</th>\n",
       "      <th>Сред. длительность сеанса</th>\n",
       "      <th>Visit Social nets (Коэффициент конверсии для цели 1)</th>\n",
       "      <th>Visit Social nets (Достигнутые переходы к цели 1)</th>\n",
       "      <th>Visit Social nets (Ценность цели 1)</th>\n",
       "    </tr>\n",
       "  </thead>\n",
       "  <tbody>\n",
       "    <tr>\n",
       "      <th>0</th>\n",
       "      <td>desktop</td>\n",
       "      <td>427</td>\n",
       "      <td>425</td>\n",
       "      <td>628</td>\n",
       "      <td>0.001592</td>\n",
       "      <td>2.861465</td>\n",
       "      <td>110.391720</td>\n",
       "      <td>0.017516</td>\n",
       "      <td>11</td>\n",
       "      <td>0</td>\n",
       "    </tr>\n",
       "    <tr>\n",
       "      <th>1</th>\n",
       "      <td>mobile</td>\n",
       "      <td>359</td>\n",
       "      <td>360</td>\n",
       "      <td>414</td>\n",
       "      <td>0.024155</td>\n",
       "      <td>2.657005</td>\n",
       "      <td>22.635266</td>\n",
       "      <td>0.007246</td>\n",
       "      <td>3</td>\n",
       "      <td>0</td>\n",
       "    </tr>\n",
       "    <tr>\n",
       "      <th>2</th>\n",
       "      <td>tablet</td>\n",
       "      <td>17</td>\n",
       "      <td>17</td>\n",
       "      <td>21</td>\n",
       "      <td>0.000000</td>\n",
       "      <td>2.380952</td>\n",
       "      <td>84.904762</td>\n",
       "      <td>0.000000</td>\n",
       "      <td>0</td>\n",
       "      <td>0</td>\n",
       "    </tr>\n",
       "  </tbody>\n",
       "</table>\n",
       "</div>"
      ],
      "text/plain": [
       "  Тип устройства  Пользователи  Новые пользователи  Сеансы  \\\n",
       "0        desktop           427                 425     628   \n",
       "1         mobile           359                 360     414   \n",
       "2         tablet            17                  17      21   \n",
       "\n",
       "   Показатель отказов  Страниц/сеанс  Сред. длительность сеанса  \\\n",
       "0            0.001592       2.861465                 110.391720   \n",
       "1            0.024155       2.657005                  22.635266   \n",
       "2            0.000000       2.380952                  84.904762   \n",
       "\n",
       "   Visit Social nets (Коэффициент конверсии для цели 1)  \\\n",
       "0                                           0.017516      \n",
       "1                                           0.007246      \n",
       "2                                           0.000000      \n",
       "\n",
       "   Visit Social nets (Достигнутые переходы к цели 1)  \\\n",
       "0                                                 11   \n",
       "1                                                  3   \n",
       "2                                                  0   \n",
       "\n",
       "   Visit Social nets (Ценность цели 1)  \n",
       "0                                    0  \n",
       "1                                    0  \n",
       "2                                    0  "
      ]
     },
     "execution_count": 20,
     "metadata": {},
     "output_type": "execute_result"
    }
   ],
   "source": [
    "devices['DeviceType']"
   ]
  },
  {
   "cell_type": "markdown",
   "metadata": {},
   "source": [
    "По типам устройств у нас все пользователи определены. Построим диаграммы, чтобы оценить распределение"
   ]
  },
  {
   "cell_type": "code",
   "execution_count": 21,
   "metadata": {},
   "outputs": [
    {
     "data": {
      "text/plain": [
       "Text(0.5, 1.0, 'Сред. длительность сеанса по типу устройства')"
      ]
     },
     "execution_count": 21,
     "metadata": {},
     "output_type": "execute_result"
    },
    {
     "data": {
      "image/png": "[encoded data removed]",
      "text/plain": [
       "<Figure size 504x504 with 4 Axes>"
      ]
     },
     "metadata": {
      "needs_background": "light"
     },
     "output_type": "display_data"
    }
   ],
   "source": [
    "labels = 'desktop', 'mobile', 'tablet'\n",
    "sizes1 = [devices['DeviceType']['Пользователи'].iloc[0], devices['DeviceType']['Пользователи'].iloc[1], devices['DeviceType']['Пользователи'].iloc[2]]\n",
    "sizes2 = [devices['DeviceType']['Сеансы'].iloc[0], devices['DeviceType']['Сеансы'].iloc[1], devices['DeviceType']['Сеансы'].iloc[2]]\n",
    "sizes3 = [devices['DeviceType']['Страниц/сеанс'].iloc[0], devices['DeviceType']['Страниц/сеанс'].iloc[1], devices['DeviceType']['Страниц/сеанс'].iloc[2]]\n",
    "sizes4 = [devices['DeviceType']['Сред. длительность сеанса'].iloc[0], devices['DeviceType']['Сред. длительность сеанса'].iloc[1], devices['DeviceType']['Сред. длительность сеанса'].iloc[2]]\n",
    "\n",
    "fig, axes = plt.subplots(2, 2, figsize=(7,7))\n",
    "plt.subplots_adjust(bottom = -0.1, right = 2)\n",
    "\n",
    "axes[0, 0].set_title('Пользователи по типу устройства')\n",
    "axes[0, 0].pie(sizes1, labels = labels, autopct='%.1f%%',\n",
    "       shadow=False, startangle=90)\n",
    "axes[0, 1].set_title('Сеансы по типу девайса')\n",
    "axes[0, 1].pie(sizes2, labels = labels, autopct='%.1f%%',\n",
    "        shadow=False, startangle=90)\n",
    "\n",
    "sns.barplot(ax = axes[1, 0], x = 'Тип устройства', y = 'Страниц/сеанс', data = devices['DeviceType'].head(5))\n",
    "axes[1, 0].set_title('Страниц/сеанс по типу устройства')\n",
    "\n",
    "sns.barplot(ax = axes[1, 1], x = 'Тип устройства', y = 'Сред. длительность сеанса', data = devices['DeviceType'].head(5))\n",
    "axes[1, 1].set_title('Сред. длительность сеанса по типу устройства')"
   ]
  },
  {
   "cell_type": "markdown",
   "metadata": {},
   "source": [
    "**Выводы:**\n",
    "\n",
    "1. **53.2%** пользователей используют компьютер, **44.7%** используют телефон и **2.1%** используют планшет\n",
    "\n",
    "2. Количество сеансов по типу устройства: **59.1%** компьютер, **38.9%** телефон и **2%** планшет\n",
    "\n",
    "3. По параметру Страниц/сеанс у нас равное распределение\n",
    "\n",
    "4. Средняя длительность сеансов пользователей телефонов гораздо ниже пользователей других устройств. Это узкое место сайта учитывая, что **44%** пользователей сайта заходят с телефона\n"
   ]
  },
  {
   "cell_type": "markdown",
   "metadata": {},
   "source": [
    "=========================================================================================================================\n",
    "### Данные по локации"
   ]
  },
  {
   "cell_type": "code",
   "execution_count": 22,
   "metadata": {},
   "outputs": [
    {
     "name": "stdout",
     "output_type": "stream",
     "text": [
      "<class 'pandas.core.frame.DataFrame'>\n",
      "RangeIndex: 89 entries, 0 to 88\n",
      "Data columns (total 10 columns):\n",
      " #   Column                                                Non-Null Count  Dtype  \n",
      "---  ------                                                --------------  -----  \n",
      " 0   Страна                                                89 non-null     object \n",
      " 1   Пользователи                                          89 non-null     int64  \n",
      " 2   Новые пользователи                                    89 non-null     int64  \n",
      " 3   Сеансы                                                89 non-null     int64  \n",
      " 4   Показатель отказов                                    89 non-null     float64\n",
      " 5   Страниц/сеанс                                         89 non-null     float64\n",
      " 6   Сред. длительность сеанса                             89 non-null     float64\n",
      " 7   Visit Social nets (Коэффициент конверсии для цели 1)  89 non-null     float64\n",
      " 8   Visit Social nets (Достигнутые переходы к цели 1)     89 non-null     int64  \n",
      " 9   Visit Social nets (Ценность цели 1)                   89 non-null     int64  \n",
      "dtypes: float64(4), int64(5), object(1)\n",
      "memory usage: 7.1+ KB\n"
     ]
    }
   ],
   "source": [
    "devices['Location'].info()"
   ]
  },
  {
   "cell_type": "markdown",
   "metadata": {},
   "source": [
    "В датафрейме 89 уникальных стран и нет пропущенных значений"
   ]
  },
  {
   "cell_type": "code",
   "execution_count": 23,
   "metadata": {},
   "outputs": [
    {
     "data": {
      "text/html": [
       "<div>\n",
       "<style scoped>\n",
       "    .dataframe tbody tr th:only-of-type {\n",
       "        vertical-align: middle;\n",
       "    }\n",
       "\n",
       "    .dataframe tbody tr th {\n",
       "        vertical-align: top;\n",
       "    }\n",
       "\n",
       "    .dataframe thead th {\n",
       "        text-align: right;\n",
       "    }\n",
       "</style>\n",
       "<table border=\"1\" class=\"dataframe\">\n",
       "  <thead>\n",
       "    <tr style=\"text-align: right;\">\n",
       "      <th></th>\n",
       "      <th>Страна</th>\n",
       "      <th>Пользователи</th>\n",
       "      <th>Новые пользователи</th>\n",
       "      <th>Сеансы</th>\n",
       "      <th>Показатель отказов</th>\n",
       "      <th>Страниц/сеанс</th>\n",
       "      <th>Сред. длительность сеанса</th>\n",
       "      <th>Visit Social nets (Коэффициент конверсии для цели 1)</th>\n",
       "      <th>Visit Social nets (Достигнутые переходы к цели 1)</th>\n",
       "      <th>Visit Social nets (Ценность цели 1)</th>\n",
       "    </tr>\n",
       "  </thead>\n",
       "  <tbody>\n",
       "    <tr>\n",
       "      <th>0</th>\n",
       "      <td>Russia</td>\n",
       "      <td>272</td>\n",
       "      <td>271</td>\n",
       "      <td>442</td>\n",
       "      <td>0.000000</td>\n",
       "      <td>3.660633</td>\n",
       "      <td>141.219457</td>\n",
       "      <td>0.027149</td>\n",
       "      <td>12</td>\n",
       "      <td>0</td>\n",
       "    </tr>\n",
       "    <tr>\n",
       "      <th>1</th>\n",
       "      <td>China</td>\n",
       "      <td>101</td>\n",
       "      <td>101</td>\n",
       "      <td>109</td>\n",
       "      <td>0.091743</td>\n",
       "      <td>1.908257</td>\n",
       "      <td>1.908257</td>\n",
       "      <td>0.000000</td>\n",
       "      <td>0</td>\n",
       "      <td>0</td>\n",
       "    </tr>\n",
       "    <tr>\n",
       "      <th>2</th>\n",
       "      <td>United States</td>\n",
       "      <td>49</td>\n",
       "      <td>49</td>\n",
       "      <td>54</td>\n",
       "      <td>0.000000</td>\n",
       "      <td>2.074074</td>\n",
       "      <td>10.240741</td>\n",
       "      <td>0.000000</td>\n",
       "      <td>0</td>\n",
       "      <td>0</td>\n",
       "    </tr>\n",
       "    <tr>\n",
       "      <th>3</th>\n",
       "      <td>Ukraine</td>\n",
       "      <td>34</td>\n",
       "      <td>34</td>\n",
       "      <td>59</td>\n",
       "      <td>0.000000</td>\n",
       "      <td>2.406780</td>\n",
       "      <td>95.694915</td>\n",
       "      <td>0.000000</td>\n",
       "      <td>0</td>\n",
       "      <td>0</td>\n",
       "    </tr>\n",
       "    <tr>\n",
       "      <th>4</th>\n",
       "      <td>India</td>\n",
       "      <td>23</td>\n",
       "      <td>23</td>\n",
       "      <td>27</td>\n",
       "      <td>0.000000</td>\n",
       "      <td>2.074074</td>\n",
       "      <td>10.000000</td>\n",
       "      <td>0.000000</td>\n",
       "      <td>0</td>\n",
       "      <td>0</td>\n",
       "    </tr>\n",
       "    <tr>\n",
       "      <th>...</th>\n",
       "      <td>...</td>\n",
       "      <td>...</td>\n",
       "      <td>...</td>\n",
       "      <td>...</td>\n",
       "      <td>...</td>\n",
       "      <td>...</td>\n",
       "      <td>...</td>\n",
       "      <td>...</td>\n",
       "      <td>...</td>\n",
       "      <td>...</td>\n",
       "    </tr>\n",
       "    <tr>\n",
       "      <th>84</th>\n",
       "      <td>Serbia</td>\n",
       "      <td>1</td>\n",
       "      <td>1</td>\n",
       "      <td>1</td>\n",
       "      <td>0.000000</td>\n",
       "      <td>2.000000</td>\n",
       "      <td>10.000000</td>\n",
       "      <td>0.000000</td>\n",
       "      <td>0</td>\n",
       "      <td>0</td>\n",
       "    </tr>\n",
       "    <tr>\n",
       "      <th>85</th>\n",
       "      <td>Slovakia</td>\n",
       "      <td>1</td>\n",
       "      <td>1</td>\n",
       "      <td>1</td>\n",
       "      <td>0.000000</td>\n",
       "      <td>2.000000</td>\n",
       "      <td>10.000000</td>\n",
       "      <td>0.000000</td>\n",
       "      <td>0</td>\n",
       "      <td>0</td>\n",
       "    </tr>\n",
       "    <tr>\n",
       "      <th>86</th>\n",
       "      <td>Syria</td>\n",
       "      <td>1</td>\n",
       "      <td>1</td>\n",
       "      <td>1</td>\n",
       "      <td>0.000000</td>\n",
       "      <td>2.000000</td>\n",
       "      <td>10.000000</td>\n",
       "      <td>0.000000</td>\n",
       "      <td>0</td>\n",
       "      <td>0</td>\n",
       "    </tr>\n",
       "    <tr>\n",
       "      <th>87</th>\n",
       "      <td>Tajikistan</td>\n",
       "      <td>1</td>\n",
       "      <td>1</td>\n",
       "      <td>1</td>\n",
       "      <td>0.000000</td>\n",
       "      <td>2.000000</td>\n",
       "      <td>10.000000</td>\n",
       "      <td>0.000000</td>\n",
       "      <td>0</td>\n",
       "      <td>0</td>\n",
       "    </tr>\n",
       "    <tr>\n",
       "      <th>88</th>\n",
       "      <td>Tunisia</td>\n",
       "      <td>1</td>\n",
       "      <td>1</td>\n",
       "      <td>1</td>\n",
       "      <td>0.000000</td>\n",
       "      <td>2.000000</td>\n",
       "      <td>7.000000</td>\n",
       "      <td>0.000000</td>\n",
       "      <td>0</td>\n",
       "      <td>0</td>\n",
       "    </tr>\n",
       "  </tbody>\n",
       "</table>\n",
       "<p>89 rows × 10 columns</p>\n",
       "</div>"
      ],
      "text/plain": [
       "           Страна  Пользователи  Новые пользователи  Сеансы  \\\n",
       "0          Russia           272                 271     442   \n",
       "1           China           101                 101     109   \n",
       "2   United States            49                  49      54   \n",
       "3         Ukraine            34                  34      59   \n",
       "4           India            23                  23      27   \n",
       "..            ...           ...                 ...     ...   \n",
       "84         Serbia             1                   1       1   \n",
       "85       Slovakia             1                   1       1   \n",
       "86          Syria             1                   1       1   \n",
       "87     Tajikistan             1                   1       1   \n",
       "88        Tunisia             1                   1       1   \n",
       "\n",
       "    Показатель отказов  Страниц/сеанс  Сред. длительность сеанса  \\\n",
       "0             0.000000       3.660633                 141.219457   \n",
       "1             0.091743       1.908257                   1.908257   \n",
       "2             0.000000       2.074074                  10.240741   \n",
       "3             0.000000       2.406780                  95.694915   \n",
       "4             0.000000       2.074074                  10.000000   \n",
       "..                 ...            ...                        ...   \n",
       "84            0.000000       2.000000                  10.000000   \n",
       "85            0.000000       2.000000                  10.000000   \n",
       "86            0.000000       2.000000                  10.000000   \n",
       "87            0.000000       2.000000                  10.000000   \n",
       "88            0.000000       2.000000                   7.000000   \n",
       "\n",
       "    Visit Social nets (Коэффициент конверсии для цели 1)  \\\n",
       "0                                            0.027149      \n",
       "1                                            0.000000      \n",
       "2                                            0.000000      \n",
       "3                                            0.000000      \n",
       "4                                            0.000000      \n",
       "..                                                ...      \n",
       "84                                           0.000000      \n",
       "85                                           0.000000      \n",
       "86                                           0.000000      \n",
       "87                                           0.000000      \n",
       "88                                           0.000000      \n",
       "\n",
       "    Visit Social nets (Достигнутые переходы к цели 1)  \\\n",
       "0                                                  12   \n",
       "1                                                   0   \n",
       "2                                                   0   \n",
       "3                                                   0   \n",
       "4                                                   0   \n",
       "..                                                ...   \n",
       "84                                                  0   \n",
       "85                                                  0   \n",
       "86                                                  0   \n",
       "87                                                  0   \n",
       "88                                                  0   \n",
       "\n",
       "    Visit Social nets (Ценность цели 1)  \n",
       "0                                     0  \n",
       "1                                     0  \n",
       "2                                     0  \n",
       "3                                     0  \n",
       "4                                     0  \n",
       "..                                  ...  \n",
       "84                                    0  \n",
       "85                                    0  \n",
       "86                                    0  \n",
       "87                                    0  \n",
       "88                                    0  \n",
       "\n",
       "[89 rows x 10 columns]"
      ]
     },
     "execution_count": 23,
     "metadata": {},
     "output_type": "execute_result"
    }
   ],
   "source": [
    "devices['Location']"
   ]
  },
  {
   "cell_type": "markdown",
   "metadata": {},
   "source": [
    "**Выводы:**\n",
    "\n",
    "Поскольку на територрии России и многих других стран используется VPN, данные по местоположению могут быть некорректными.\n",
    "Поэтому для нас практической пользы информация по локации не несет"
   ]
  },
  {
   "cell_type": "markdown",
   "metadata": {},
   "source": [
    "###  Рекомендации\n",
    "\n",
    "Нужна оптимизациия сайта для телефона для увеличения средней длительности сеанса."
   ]
  },
  {
   "cell_type": "markdown",
   "metadata": {},
   "source": [
    "=========================================================================================================================\n",
    "## 3. Анализ поведения пользователей"
   ]
  },
  {
   "cell_type": "code",
   "execution_count": 24,
   "metadata": {},
   "outputs": [],
   "source": [
    "# Таблица с данными по поведению пользователей\n",
    "behaviour = pd.read_excel('Behaviour.xlsx', ['Source', 'Depth', 'Duration', 'New_return', 'Pages', 'Active_users'])"
   ]
  },
  {
   "cell_type": "markdown",
   "metadata": {},
   "source": [
    "Рассмотрим теперь таблицу с поведением пользователей\n",
    "\n",
    "Мы имеем следующие датафреймы:\n",
    "\n",
    "\"Source\" - источники трафика\n",
    "\n",
    "\"Depth\" - глубина просмотра сайта\n",
    "\n",
    "\"Duration\" - данные по длительности сеанса\n",
    "\n",
    "\"New_return\" - данные по новым пользователям и вернувшимся\n",
    "\n",
    "\"Periods\" - группированные данные по сеансам\n",
    "\n",
    "\"Pages\" - данные по посещению страниц\n",
    "\n",
    "\"Active_users\" - активные пользователи по дням "
   ]
  },
  {
   "cell_type": "markdown",
   "metadata": {},
   "source": [
    "=========================================================================================================================\n",
    "### Данные по активным пользователям"
   ]
  },
  {
   "cell_type": "code",
   "execution_count": 25,
   "metadata": {},
   "outputs": [
    {
     "name": "stdout",
     "output_type": "stream",
     "text": [
      "<class 'pandas.core.frame.DataFrame'>\n",
      "RangeIndex: 366 entries, 0 to 365\n",
      "Data columns (total 2 columns):\n",
      " #   Column                            Non-Null Count  Dtype         \n",
      "---  ------                            --------------  -----         \n",
      " 0   Индекс дня                        366 non-null    datetime64[ns]\n",
      " 1   Активных пользователей за 1 день  366 non-null    int64         \n",
      "dtypes: datetime64[ns](1), int64(1)\n",
      "memory usage: 5.8 KB\n"
     ]
    }
   ],
   "source": [
    "behaviour['Active_users'].info()"
   ]
  },
  {
   "cell_type": "markdown",
   "metadata": {},
   "source": [
    "У нас нет пропусков в данных. Всего 366 значений. Переименуем столбцы для простоты обработки"
   ]
  },
  {
   "cell_type": "code",
   "execution_count": 26,
   "metadata": {},
   "outputs": [],
   "source": [
    "behaviour['Active_users'] = behaviour['Active_users'].rename(columns = {'Индекс дня' : 'День', 'Активных пользователей за 1 день': 'Пользователи'})"
   ]
  },
  {
   "cell_type": "code",
   "execution_count": 27,
   "metadata": {},
   "outputs": [
    {
     "data": {
      "text/html": [
       "<div>\n",
       "<style scoped>\n",
       "    .dataframe tbody tr th:only-of-type {\n",
       "        vertical-align: middle;\n",
       "    }\n",
       "\n",
       "    .dataframe tbody tr th {\n",
       "        vertical-align: top;\n",
       "    }\n",
       "\n",
       "    .dataframe thead th {\n",
       "        text-align: right;\n",
       "    }\n",
       "</style>\n",
       "<table border=\"1\" class=\"dataframe\">\n",
       "  <thead>\n",
       "    <tr style=\"text-align: right;\">\n",
       "      <th></th>\n",
       "      <th>День</th>\n",
       "      <th>Пользователи</th>\n",
       "    </tr>\n",
       "  </thead>\n",
       "  <tbody>\n",
       "    <tr>\n",
       "      <th>0</th>\n",
       "      <td>2020-12-02</td>\n",
       "      <td>2</td>\n",
       "    </tr>\n",
       "    <tr>\n",
       "      <th>1</th>\n",
       "      <td>2020-12-03</td>\n",
       "      <td>1</td>\n",
       "    </tr>\n",
       "    <tr>\n",
       "      <th>2</th>\n",
       "      <td>2020-12-04</td>\n",
       "      <td>4</td>\n",
       "    </tr>\n",
       "    <tr>\n",
       "      <th>3</th>\n",
       "      <td>2020-12-05</td>\n",
       "      <td>1</td>\n",
       "    </tr>\n",
       "    <tr>\n",
       "      <th>4</th>\n",
       "      <td>2020-12-06</td>\n",
       "      <td>3</td>\n",
       "    </tr>\n",
       "  </tbody>\n",
       "</table>\n",
       "</div>"
      ],
      "text/plain": [
       "        День  Пользователи\n",
       "0 2020-12-02             2\n",
       "1 2020-12-03             1\n",
       "2 2020-12-04             4\n",
       "3 2020-12-05             1\n",
       "4 2020-12-06             3"
      ]
     },
     "execution_count": 27,
     "metadata": {},
     "output_type": "execute_result"
    }
   ],
   "source": [
    "behaviour['Active_users'].head()"
   ]
  },
  {
   "cell_type": "code",
   "execution_count": 28,
   "metadata": {},
   "outputs": [
    {
     "data": {
      "text/plain": [
       "[<matplotlib.lines.Line2D at 0x2227da10fa0>]"
      ]
     },
     "execution_count": 28,
     "metadata": {},
     "output_type": "execute_result"
    },
    {
     "data": {
      "image/png": "[encoded data removed]",
      "text/plain": [
       "<Figure size 1224x288 with 2 Axes>"
      ]
     },
     "metadata": {
      "needs_background": "light"
     },
     "output_type": "display_data"
    }
   ],
   "source": [
    "#Постороим график активных пользователей по дате\n",
    "fig, axes = plt.subplots(1, 2, figsize=(17,4))\n",
    "fig.autofmt_xdate()\n",
    "\n",
    "axes[0].set_title('Пользователи за весь период')\n",
    "axes[0].plot(behaviour['Active_users']['День'], behaviour['Active_users']['Пользователи'], linestyle='--')\n",
    "axes[1].set_title('Пользователи на период от 22-Сентября по 27-Сентября 2021 года')\n",
    "axes[1].plot(behaviour['Active_users'][(behaviour['Active_users']['День'] > '2021-09-21') & (behaviour['Active_users']['День'] < '2021-09-27')]['День'],\n",
    "             behaviour['Active_users'][(behaviour['Active_users']['День'] > '2021-09-21') & (behaviour['Active_users']['День'] < '2021-09-27')]['Пользователи'], linestyle='--')"
   ]
  },
  {
   "cell_type": "markdown",
   "metadata": {},
   "source": [
    "#### Выводы\n",
    "\n",
    "Как видно на первом графике мы имеем гигантский скачок в активных пользователях в конце сентября. Второй (увеличенный) график показывает резкий скачок активных пользователей (350 - 370 пользователей) на период с 23 сентября по 25 сенятбря. Это очень странная аномалия, скорее всего мы увидим источник этой аномалии в данных по каналам и источникам. Проанализируем датафрейм по источникам"
   ]
  },
  {
   "cell_type": "markdown",
   "metadata": {},
   "source": [
    "=========================================================================================================================\n",
    "### Данные по источникам трафика"
   ]
  },
  {
   "cell_type": "code",
   "execution_count": 29,
   "metadata": {},
   "outputs": [
    {
     "name": "stdout",
     "output_type": "stream",
     "text": [
      "<class 'pandas.core.frame.DataFrame'>\n",
      "RangeIndex: 10 entries, 0 to 9\n",
      "Data columns (total 10 columns):\n",
      " #   Column                                                Non-Null Count  Dtype  \n",
      "---  ------                                                --------------  -----  \n",
      " 0   Источник или канал                                    10 non-null     object \n",
      " 1   Пользователи                                          10 non-null     int64  \n",
      " 2   Новые пользователи                                    10 non-null     int64  \n",
      " 3   Сеансы                                                10 non-null     int64  \n",
      " 4   Показатель отказов                                    10 non-null     float64\n",
      " 5   Страниц/сеанс                                         10 non-null     float64\n",
      " 6   Сред. длительность сеанса                             10 non-null     float64\n",
      " 7   Visit Social nets (Коэффициент конверсии для цели 1)  10 non-null     float64\n",
      " 8   Visit Social nets (Достигнутые переходы к цели 1)     10 non-null     int64  \n",
      " 9   Visit Social nets (Ценность цели 1)                   10 non-null     int64  \n",
      "dtypes: float64(4), int64(5), object(1)\n",
      "memory usage: 928.0+ bytes\n"
     ]
    }
   ],
   "source": [
    "behaviour['Source'].info()"
   ]
  },
  {
   "cell_type": "markdown",
   "metadata": {},
   "source": [
    "У нас нет пропусков в данных - можем продолжать анализ"
   ]
  },
  {
   "cell_type": "code",
   "execution_count": null,
   "metadata": {},
   "outputs": [],
   "source": [
    "behaviour['Source']"
   ]
  },
  {
   "cell_type": "markdown",
   "metadata": {},
   "source": [
    "#### Выводы\n",
    "На первом месте по пользоваталям у нас идет \"trafficgroup.xyz\". Поиск информации в интернете показывает, что это спам-бот.\n",
    "Ключевые моменты спам-бота:\n",
    "\n",
    "1) Первое, что вам нужно помнить, это НЕ ПОСЕЩАТЬ ^^^.xyz! \n",
    "\n",
    "2) Часть спама исходит от ботов, фактически посещающих ваш сайт и выполняющих скрипт Google Analytics, в то время как другой - это призрачный трафик, который обходит ваш сервер и нацелен непосредственно на GA. В отличие от спама ботов, призрачный трафик появляется только в Google Analytics.\n",
    "\n",
    "3) такой трафик загрязняет ваши отчеты Google Analytics и может искажать ваши данные, иногда до такой степени, что они становятся непригодными для использования. Это особенно верно для сайтов, которые ежедневно получают небольшой или средний объем трафика. Если вы полагаетесь на данные Google Analytics для принятия бизнес-решений, то наличие максимально чистых данных должно быть главным приоритетом.\n",
    "\n",
    "4) Рекомендуемый способ - настроить фильтры просмотра в Google Analytics - включить фильтр для допустимых имен хостов и исключить фильтр для измерения источника кампании, отфильтровав \"^^^.xyz\". Это самое простое и масштабируемое решение (масштабируемое в определенной степени).\n",
    "\n",
    "#### Рекоммендации\n",
    "Отфильтровать *.xyz источник в Гугл аналитике"
   ]
  },
  {
   "cell_type": "markdown",
   "metadata": {},
   "source": [
    "Уберем первый источник из анализа и посмотрим, что у нас будет в этом случае с данными по источникам"
   ]
  },
  {
   "cell_type": "code",
   "execution_count": null,
   "metadata": {},
   "outputs": [],
   "source": [
    "behaviour['Source'] = behaviour['Source'][behaviour['Source']['Источник или канал'] != 'trafficgroup.xyz / referral']\n",
    "behaviour['Source']"
   ]
  },
  {
   "cell_type": "markdown",
   "metadata": {},
   "source": [
    "Наиболее популярным источником является директ переход, далее идут уже поисковики гугл, байду и яндекс. Соцсети приносят совсем мало трафика. Посчитаем средние по показателям \"Страниц/сеанс\" и \"Средняя длительность сеанса\" БЕЗ учета спам-бота."
   ]
  },
  {
   "cell_type": "code",
   "execution_count": null,
   "metadata": {},
   "outputs": [],
   "source": [
    "# Среднее количество сеансов на пользвателя \n",
    "avg_su = behaviour['Source']['Сеансы'].sum()/behaviour['Source']['Пользователи'].sum()\n",
    "\n",
    "# Среднее по сеансам \n",
    "avg_s = behaviour['Source']['Страниц/сеанс'].mean()\n",
    "\n",
    "# Среднее по длительности сеансам\n",
    "avg_d = behaviour['Source']['Сред. длительность сеанса'].mean()\n",
    "\n",
    "print(round(avg_su,2), round(avg_s,2), round(avg_d,2))"
   ]
  },
  {
   "cell_type": "markdown",
   "metadata": {},
   "source": [
    "Среднее количество сеансов **1.42** на пользователя, **3.42**  - среднее количество страниц на сеанс.\n",
    "Средняя продолжительность сеанса у нас выросла с **46.17** секунд до **84**, за счет того, что мы отфильтровали спам-бота искажающего наши данные\n",
    "\n",
    "##### Важно:\n",
    "Несмотря на то, что мы убрали спам-бота, у нас все равно по-прежнему низкое количество сеансов на пользователя."
   ]
  },
  {
   "cell_type": "markdown",
   "metadata": {},
   "source": [
    "=========================================================================================================================\n",
    "### Данные по посещению страниц"
   ]
  },
  {
   "cell_type": "code",
   "execution_count": null,
   "metadata": {},
   "outputs": [],
   "source": [
    "behaviour ['Pages'].info()"
   ]
  },
  {
   "cell_type": "markdown",
   "metadata": {},
   "source": [
    "В датафрейме **21** уникальное значение без пропусков"
   ]
  },
  {
   "cell_type": "code",
   "execution_count": null,
   "metadata": {},
   "outputs": [],
   "source": [
    "behaviour ['Pages']"
   ]
  },
  {
   "cell_type": "markdown",
   "metadata": {},
   "source": [
    "**Индексы  8 - 20**\n",
    "Являются домашней страницей. Выведем датафрейм без них для удобства анализа"
   ]
  },
  {
   "cell_type": "code",
   "execution_count": null,
   "metadata": {},
   "outputs": [],
   "source": [
    "behaviour ['Pages'].head(8)"
   ]
  },
  {
   "cell_type": "markdown",
   "metadata": {},
   "source": [
    "##  Статистика по страницам показывает следующие данные:\n",
    "\n",
    "**1) Индекс 0 - Домашняя страница \"/index.html\":**\n",
    "Ожидаемо имеет высокое количество просмотра страниц, но имеет самый высокий процент выходов, и это единственная страница, у которой показатель отказов больше нуля (1.54%). Так же она имеет среднюю длительность просмотра 7 секунд, что подтверждает высокий процент выходов\n",
    "\n",
    "**Гипотезы:**\n",
    "1. Важно помнить, что больше 40% пользователей попадают на страницу с телефона и сайт должен быть оптимизирован под телефон. Проверка с телефона показывает, что из трех кнопок с переходом на разный контент сайта на телефоне показывает только 1 кнопку. Это узкое место в сайте. \n",
    "\n",
    "2. Пользователи уходят со страницы, потому что не понимают, что им делать дальше и как взаимодействовать с сайтом (отсутствует абзац с описанием пользы для читающего, инструкции, что делать дальше)\n",
    "\n",
    "**Рекомендации:**\n",
    "1. Стоит оптимизировать главную страницу под мобильные устройства\n",
    "2. Стоит добавить абзац с описанием полезности контента сайта\n",
    "\n",
    "**2) Индекс 1/3 -Авторский курс:**\n",
    "На страницу с авторским курсом можно попасть с двух источников на стайте: с bmstu и ux. Но как видно в таблице количество просмотров страницы с курсом выше, чем источники откуда на нее можно перейти. Это значит, что на эту страницу попадают извне, а не с сайта. Возможно, ссылка на курс есть в соцсетях или на сайте вуза. По странице с авторским курсом мы можем наблюдать высокий процент выходов. Стоит подумать над оптимизацией контента. \n",
    "\n",
    "**Рекомендации:**\n",
    "1.  Стоит вынести ссылку на авторский курс на главную страницу для повышения просмотров курса, снижения количества выходов с главной и увеличения средней длительности просмотра главной страницы\n",
    "\n",
    "2. Оптимизировать страницу с авторским курсом для удержания внимания пользователя - например, убрать опцию показать слайды и оставить страницу, чтобы слайды были доступны как если бы пользователь нажал на кнопку показать слайды\n",
    "\n",
    "3. Так же нет возможности открыть слайды на полный экран - неудобно смотреть мелкий текст\n",
    "\n",
    "**3) Индекс 5 - /ux/uxr-tool-concept.html:**\n",
    "Не совсем очевидно положение этой страницы. Теряется в коллаже: неочевидна кликабельность картинок, что возвращает нас к гипотезе, что пользователи не понимают как использовать сайт.\n",
    "\n",
    "**4) Индекс 6 - /yoga/index.html:**\n",
    "По йоге очень слабое количество просмотров.\n",
    "\n",
    "**5) Индекс 7 - /bmstu/ir_tasks.html**\n",
    "Несмотря на то, что на странице с btstu количество просмотров равно 198. IR task просмотры всего 8.\n",
    "Стоит подумать как увеличить количество просмотров - например сделать переход из панели быстрого доступа (вверху) сразу на эту страницу"
   ]
  },
  {
   "cell_type": "markdown",
   "metadata": {},
   "source": [
    "=========================================================================================================================\n",
    "### Данные по длительности сеанса"
   ]
  },
  {
   "cell_type": "code",
   "execution_count": null,
   "metadata": {},
   "outputs": [],
   "source": [
    "behaviour['Duration'].info()"
   ]
  },
  {
   "cell_type": "markdown",
   "metadata": {},
   "source": [
    "Пропусков в данных нет"
   ]
  },
  {
   "cell_type": "code",
   "execution_count": null,
   "metadata": {},
   "outputs": [],
   "source": [
    "behaviour['Duration']"
   ]
  },
  {
   "cell_type": "markdown",
   "metadata": {},
   "source": [
    "**Выводы:**\n",
    "Как видно по таблице на большое количество просмотров страниц идет меньше 10 секунд.\n",
    "Это связано с большим количеством выхода с главной и со спам-ботом"
   ]
  },
  {
   "cell_type": "markdown",
   "metadata": {},
   "source": [
    "=========================================================================================================================\n",
    "### Данные по глубине просмотра"
   ]
  },
  {
   "cell_type": "code",
   "execution_count": null,
   "metadata": {},
   "outputs": [],
   "source": [
    "behaviour['Depth'].info()"
   ]
  },
  {
   "cell_type": "markdown",
   "metadata": {},
   "source": [
    "Пропусков в данных нет"
   ]
  },
  {
   "cell_type": "code",
   "execution_count": null,
   "metadata": {},
   "outputs": [],
   "source": [
    "behaviour['Depth']"
   ]
  },
  {
   "cell_type": "markdown",
   "metadata": {},
   "source": [
    "**Выводы:**\n",
    "Больше ~80% всех сеансов имеют глубину просмотра 2. \n",
    "\n",
    "**Гипотеза:**\n",
    "Сайт имеет низкое юзабилити, что приводит к снижению глубины просмотра. Стоит оптимизировать пользовательский интерфейс особенно для мобильной версии"
   ]
  },
  {
   "cell_type": "markdown",
   "metadata": {},
   "source": [
    "=========================================================================================================================\n",
    "### Данные по новым и вернувшимся пользователям"
   ]
  },
  {
   "cell_type": "code",
   "execution_count": null,
   "metadata": {},
   "outputs": [],
   "source": [
    "behaviour['New_return']"
   ]
  },
  {
   "cell_type": "markdown",
   "metadata": {},
   "source": [
    "**Выводы:**\n",
    "Из 801 пользователя только 114 вернулось.\n",
    "\n",
    "**Гипотеза:**\n",
    "Для тех кто понял как найти нужную информацию увеличивается средняя продолжительность сеанса"
   ]
  },
  {
   "cell_type": "markdown",
   "metadata": {},
   "source": [
    "# Отчет\n",
    "\n",
    "### Статистика в числах по рассматриваемому периоду:\n",
    "1. **803** - уникальных пользователя\n",
    "\n",
    "2. **1.42** - сеанса на пользователя (без искажения вызванное спам-бота)\n",
    "\n",
    "3. **84** секунды - средняя длительность сеанса (без искажения вызванное спам-бота)\n",
    "\n",
    "4. **1.3%** - средний показатель отказов\n",
    "\n",
    "5. **14.2%** - доля пользователей имевших более 1 сеанса\n",
    "\n",
    "6. **53.2%** пользователей используют компьютер, **44.7%** используют телефон и **2.1%** используют планшет\n",
    "\n",
    "7. **80%** всех сеансов имеют глубину просмотра **2**. \n",
    "\n",
    "\n",
    "\n",
    "\n",
    "### Рекоммендации по узким местам на сайте:\n",
    "\n",
    "1. Сделать 2 языка на сайте и возможность переключаться на нужный язык (русский или английский)\n",
    "\n",
    "2. Необходимо отслеживать пол и возраст на каждой странице сайта, чтобы четко определить ЦА по каждому направлению деятельности. \n",
    "\n",
    "3. Нужна оптимизациия сайта для телефона для увеличения средней длительности сеанса.\n",
    "\n",
    "4. Стоит добавить абзац с описанием полезности контента сайта на главной странице (объяснить навигацию по сайту)\n",
    "\n",
    "5.  Стоит вынести ссылку на авторский курс на главную страницу для повышения просмотров курса, снижения количества выходов с главной и увеличения средней длительности просмотра главной страницы\n",
    "\n",
    "6. Оптимизировать страницу с авторским курсом для удержания внимания пользователя - например, убрать опцию показать слайды и оставить страницу, чтобы слайды были доступны как если бы пользователь нажал на кнопку показать слайды\n",
    "\n",
    "7. Так же нет возможности открыть слайды на полный экран - неудобно смотреть мелкий текст\n",
    "\n",
    "### Идеи для Гугл Аналитики\n",
    "\n",
    "1. Отфильтровать *.xyz источник для очистки данных от искажений\n",
    "\n",
    "2. Нужно отслеживать пол и возраст для всех страниц сайта "
   ]
  }
 ],
 "metadata": {
  "kernelspec": {
   "display_name": "Python 3",
   "language": "python",
   "name": "python3"
  },
  "language_info": {
   "codemirror_mode": {
    "name": "ipython",
    "version": 3
   },
   "file_extension": ".py",
   "mimetype": "text/x-python",
   "name": "python",
   "nbconvert_exporter": "python",
   "pygments_lexer": "ipython3",
   "version": "3.8.3"
  }
 },
 "nbformat": 4,
 "nbformat_minor": 4
}
