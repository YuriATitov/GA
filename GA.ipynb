{
 "cells": [
  {
   "cell_type": "markdown",
   "metadata": {},
   "source": [
    "Задание такое:\n",
    "1. Проанализировать поведение пользователей за некоторый период: куда ходят, что смотрят, что делают, как долго / как глубоко смотрят, после чего уходят и другое.\n",
    "2. Узкие или подозрительные места на сайте: к чему стоит присмотреться внимательнее (понаблюдать дальше), что пора поменять прямо сейчас (неудобно сделано) и др.\n",
    "3. Идеи, какие данные сейчас не трекаются в GA, а следовало бы их трекать, потому что..."
   ]
  },
  {
   "cell_type": "markdown",
   "metadata": {},
   "source": [
    "Будем анализировать период со 2 декабря 2020 года по 2 декабря 2021 года"
   ]
  },
  {
   "cell_type": "code",
   "execution_count": 29,
   "metadata": {},
   "outputs": [],
   "source": [
    "# Импортируем нужные библиотеки\n",
    "import pandas as pd\n",
    "#import datetime\n",
    "import matplotlib.pyplot as plt\n",
    "import seaborn as sns"
   ]
  },
  {
   "cell_type": "markdown",
   "metadata": {},
   "source": [
    "Подгрузим сюда все excel файлы выкачанные из Google Analytics"
   ]
  },
  {
   "cell_type": "code",
   "execution_count": 5,
   "metadata": {},
   "outputs": [],
   "source": [
    "# Таблица с пользователями\n",
    "users = pd.read_excel('User_stats.xlsx', ['Users', 'Language', 'Age', 'Gender'])\n",
    "\n",
    "# Таблица с устройствами и локацией и типом браузера\n",
    "devices = pd.read_excel('Device_data.xlsx', ['DeviceType', 'BrowserType', 'Location'])\n",
    "\n",
    "# Таблица с данными по поведению пользователей\n",
    "behaviour = pd.read_excel('Behaviour.xlsx', ['Source', 'Depth', 'Duration', 'New_return', 'Periods', 'Pages', 'Active_users'])"
   ]
  },
  {
   "cell_type": "markdown",
   "metadata": {},
   "source": [
    "Для начала изучим нашу целевую аудиторию"
   ]
  },
  {
   "cell_type": "code",
   "execution_count": 7,
   "metadata": {},
   "outputs": [
    {
     "name": "stdout",
     "output_type": "stream",
     "text": [
      "<class 'pandas.core.frame.DataFrame'>\n",
      "RangeIndex: 803 entries, 0 to 802\n",
      "Data columns (total 7 columns):\n",
      " #   Column                      Non-Null Count  Dtype  \n",
      "---  ------                      --------------  -----  \n",
      " 0   Идентификатор клиента       803 non-null    float64\n",
      " 1   Сеансы                      803 non-null    int64  \n",
      " 2   Сред. длительность сеанса   803 non-null    float64\n",
      " 3   Показатель отказов          803 non-null    int64  \n",
      " 4   Доход                       803 non-null    int64  \n",
      " 5   Транзакции                  803 non-null    int64  \n",
      " 6   Коэффициент конверсии цели  803 non-null    float64\n",
      "dtypes: float64(3), int64(4)\n",
      "memory usage: 44.0 KB\n"
     ]
    }
   ],
   "source": [
    "users['Users'].info()"
   ]
  },
  {
   "cell_type": "markdown",
   "metadata": {},
   "source": [
    "В первом датафрейме у нас 803 уникальных пользователя. Заметим, что у нас нет пропущенных значений.\n",
    "Теперь посмотрим, что у нас в самом датафрейме: выведем первые 5 строк"
   ]
  },
  {
   "cell_type": "code",
   "execution_count": 9,
   "metadata": {},
   "outputs": [
    {
     "data": {
      "text/html": [
       "<div>\n",
       "<style scoped>\n",
       "    .dataframe tbody tr th:only-of-type {\n",
       "        vertical-align: middle;\n",
       "    }\n",
       "\n",
       "    .dataframe tbody tr th {\n",
       "        vertical-align: top;\n",
       "    }\n",
       "\n",
       "    .dataframe thead th {\n",
       "        text-align: right;\n",
       "    }\n",
       "</style>\n",
       "<table border=\"1\" class=\"dataframe\">\n",
       "  <thead>\n",
       "    <tr style=\"text-align: right;\">\n",
       "      <th></th>\n",
       "      <th>Идентификатор клиента</th>\n",
       "      <th>Сеансы</th>\n",
       "      <th>Сред. длительность сеанса</th>\n",
       "      <th>Показатель отказов</th>\n",
       "      <th>Доход</th>\n",
       "      <th>Транзакции</th>\n",
       "      <th>Коэффициент конверсии цели</th>\n",
       "    </tr>\n",
       "  </thead>\n",
       "  <tbody>\n",
       "    <tr>\n",
       "      <th>0</th>\n",
       "      <td>1.198341e+09</td>\n",
       "      <td>41</td>\n",
       "      <td>155.878049</td>\n",
       "      <td>0</td>\n",
       "      <td>0</td>\n",
       "      <td>0</td>\n",
       "      <td>0.926829</td>\n",
       "    </tr>\n",
       "    <tr>\n",
       "      <th>1</th>\n",
       "      <td>3.397463e+08</td>\n",
       "      <td>22</td>\n",
       "      <td>280.000000</td>\n",
       "      <td>0</td>\n",
       "      <td>0</td>\n",
       "      <td>0</td>\n",
       "      <td>0.545455</td>\n",
       "    </tr>\n",
       "    <tr>\n",
       "      <th>2</th>\n",
       "      <td>1.764764e+09</td>\n",
       "      <td>20</td>\n",
       "      <td>106.300000</td>\n",
       "      <td>0</td>\n",
       "      <td>0</td>\n",
       "      <td>0</td>\n",
       "      <td>0.300000</td>\n",
       "    </tr>\n",
       "    <tr>\n",
       "      <th>3</th>\n",
       "      <td>5.091727e+08</td>\n",
       "      <td>11</td>\n",
       "      <td>0.545455</td>\n",
       "      <td>0</td>\n",
       "      <td>0</td>\n",
       "      <td>0</td>\n",
       "      <td>0.000000</td>\n",
       "    </tr>\n",
       "    <tr>\n",
       "      <th>4</th>\n",
       "      <td>2.067559e+09</td>\n",
       "      <td>8</td>\n",
       "      <td>0.750000</td>\n",
       "      <td>0</td>\n",
       "      <td>0</td>\n",
       "      <td>0</td>\n",
       "      <td>0.000000</td>\n",
       "    </tr>\n",
       "  </tbody>\n",
       "</table>\n",
       "</div>"
      ],
      "text/plain": [
       "   Идентификатор клиента  Сеансы  Сред. длительность сеанса  \\\n",
       "0           1.198341e+09      41                 155.878049   \n",
       "1           3.397463e+08      22                 280.000000   \n",
       "2           1.764764e+09      20                 106.300000   \n",
       "3           5.091727e+08      11                   0.545455   \n",
       "4           2.067559e+09       8                   0.750000   \n",
       "\n",
       "   Показатель отказов  Доход  Транзакции  Коэффициент конверсии цели  \n",
       "0                   0      0           0                    0.926829  \n",
       "1                   0      0           0                    0.545455  \n",
       "2                   0      0           0                    0.300000  \n",
       "3                   0      0           0                    0.000000  \n",
       "4                   0      0           0                    0.000000  "
      ]
     },
     "execution_count": 9,
     "metadata": {},
     "output_type": "execute_result"
    }
   ],
   "source": [
    "users['Users'].head()"
   ]
  },
  {
   "cell_type": "markdown",
   "metadata": {},
   "source": [
    "При выгрузке с GA мы получаем сгруппированные датафреймы. В данном случае он сгруппирован по пользователю.\n",
    "У нас есть столбцы с количеством сеансов, средняя длительность сеанса, показатель отказов, доход и транзакции.\n",
    "Так же есть коэф-т конверсии цели, который в данным момент мы определить не можем и учитывать не будем.\n",
    "\n",
    "Получим данные по основным стат показателям через describe()\n"
   ]
  },
  {
   "cell_type": "code",
   "execution_count": 11,
   "metadata": {},
   "outputs": [
    {
     "data": {
      "text/html": [
       "<div>\n",
       "<style scoped>\n",
       "    .dataframe tbody tr th:only-of-type {\n",
       "        vertical-align: middle;\n",
       "    }\n",
       "\n",
       "    .dataframe tbody tr th {\n",
       "        vertical-align: top;\n",
       "    }\n",
       "\n",
       "    .dataframe thead th {\n",
       "        text-align: right;\n",
       "    }\n",
       "</style>\n",
       "<table border=\"1\" class=\"dataframe\">\n",
       "  <thead>\n",
       "    <tr style=\"text-align: right;\">\n",
       "      <th></th>\n",
       "      <th>Идентификатор клиента</th>\n",
       "      <th>Сеансы</th>\n",
       "      <th>Сред. длительность сеанса</th>\n",
       "      <th>Показатель отказов</th>\n",
       "      <th>Доход</th>\n",
       "      <th>Транзакции</th>\n",
       "      <th>Коэффициент конверсии цели</th>\n",
       "    </tr>\n",
       "  </thead>\n",
       "  <tbody>\n",
       "    <tr>\n",
       "      <th>count</th>\n",
       "      <td>8.030000e+02</td>\n",
       "      <td>803.000000</td>\n",
       "      <td>803.000000</td>\n",
       "      <td>803.000000</td>\n",
       "      <td>803.0</td>\n",
       "      <td>803.0</td>\n",
       "      <td>803.000000</td>\n",
       "    </tr>\n",
       "    <tr>\n",
       "      <th>mean</th>\n",
       "      <td>1.079216e+09</td>\n",
       "      <td>1.323786</td>\n",
       "      <td>46.170497</td>\n",
       "      <td>0.013699</td>\n",
       "      <td>0.0</td>\n",
       "      <td>0.0</td>\n",
       "      <td>0.156091</td>\n",
       "    </tr>\n",
       "    <tr>\n",
       "      <th>std</th>\n",
       "      <td>6.315912e+08</td>\n",
       "      <td>1.879080</td>\n",
       "      <td>180.566835</td>\n",
       "      <td>0.116309</td>\n",
       "      <td>0.0</td>\n",
       "      <td>0.0</td>\n",
       "      <td>0.460221</td>\n",
       "    </tr>\n",
       "    <tr>\n",
       "      <th>min</th>\n",
       "      <td>6.150793e+06</td>\n",
       "      <td>1.000000</td>\n",
       "      <td>0.000000</td>\n",
       "      <td>0.000000</td>\n",
       "      <td>0.0</td>\n",
       "      <td>0.0</td>\n",
       "      <td>0.000000</td>\n",
       "    </tr>\n",
       "    <tr>\n",
       "      <th>25%</th>\n",
       "      <td>5.065441e+08</td>\n",
       "      <td>1.000000</td>\n",
       "      <td>0.000000</td>\n",
       "      <td>0.000000</td>\n",
       "      <td>0.0</td>\n",
       "      <td>0.0</td>\n",
       "      <td>0.000000</td>\n",
       "    </tr>\n",
       "    <tr>\n",
       "      <th>50%</th>\n",
       "      <td>1.095813e+09</td>\n",
       "      <td>1.000000</td>\n",
       "      <td>10.000000</td>\n",
       "      <td>0.000000</td>\n",
       "      <td>0.0</td>\n",
       "      <td>0.0</td>\n",
       "      <td>0.000000</td>\n",
       "    </tr>\n",
       "    <tr>\n",
       "      <th>75%</th>\n",
       "      <td>1.638227e+09</td>\n",
       "      <td>1.000000</td>\n",
       "      <td>11.000000</td>\n",
       "      <td>0.000000</td>\n",
       "      <td>0.0</td>\n",
       "      <td>0.0</td>\n",
       "      <td>0.000000</td>\n",
       "    </tr>\n",
       "    <tr>\n",
       "      <th>max</th>\n",
       "      <td>2.147305e+09</td>\n",
       "      <td>41.000000</td>\n",
       "      <td>2150.500000</td>\n",
       "      <td>1.000000</td>\n",
       "      <td>0.0</td>\n",
       "      <td>0.0</td>\n",
       "      <td>4.000000</td>\n",
       "    </tr>\n",
       "  </tbody>\n",
       "</table>\n",
       "</div>"
      ],
      "text/plain": [
       "       Идентификатор клиента      Сеансы  Сред. длительность сеанса  \\\n",
       "count           8.030000e+02  803.000000                 803.000000   \n",
       "mean            1.079216e+09    1.323786                  46.170497   \n",
       "std             6.315912e+08    1.879080                 180.566835   \n",
       "min             6.150793e+06    1.000000                   0.000000   \n",
       "25%             5.065441e+08    1.000000                   0.000000   \n",
       "50%             1.095813e+09    1.000000                  10.000000   \n",
       "75%             1.638227e+09    1.000000                  11.000000   \n",
       "max             2.147305e+09   41.000000                2150.500000   \n",
       "\n",
       "       Показатель отказов  Доход  Транзакции  Коэффициент конверсии цели  \n",
       "count          803.000000  803.0       803.0                  803.000000  \n",
       "mean             0.013699    0.0         0.0                    0.156091  \n",
       "std              0.116309    0.0         0.0                    0.460221  \n",
       "min              0.000000    0.0         0.0                    0.000000  \n",
       "25%              0.000000    0.0         0.0                    0.000000  \n",
       "50%              0.000000    0.0         0.0                    0.000000  \n",
       "75%              0.000000    0.0         0.0                    0.000000  \n",
       "max              1.000000    0.0         0.0                    4.000000  "
      ]
     },
     "execution_count": 11,
     "metadata": {},
     "output_type": "execute_result"
    }
   ],
   "source": [
    "users['Users'].describe()"
   ]
  },
  {
   "cell_type": "markdown",
   "metadata": {},
   "source": [
    "Ключевая статистика:\n",
    "\n",
    "1. 1.32 сеанса на пользователя\n",
    "2. 46.17 секунд средняя длительность сеанса.\n",
    "3. 1.3% средний показатель отказов\n",
    "4. У нас нет ни дохода ни транзакций за этот период времени\n",
    "\n",
    "Важно: по текущим данным у нас есть отличие в средней продолжительности сеанса в гугл аналитике мы имеем 1 мин. 15 секунд, в то время как в выгруженных данных по пользователям у нас 46.17 секунд. Этот момент требует дальнейшего рассмотрения.\n",
    "\n",
    "\n",
    "\n",
    "\n"
   ]
  },
  {
   "cell_type": "code",
   "execution_count": 20,
   "metadata": {},
   "outputs": [
    {
     "data": {
      "text/plain": [
       "0.14196762141967623"
      ]
     },
     "execution_count": 20,
     "metadata": {},
     "output_type": "execute_result"
    }
   ],
   "source": [
    "# Посчитаем долю пользователей имевших более 1 сеанса\n",
    "users['Users'][users['Users']['Сеансы'] > 1]['Идентификатор клиента'].count()/users['Users']['Идентификатор клиента'].count()"
   ]
  },
  {
   "cell_type": "markdown",
   "metadata": {},
   "source": [
    "Т.е. доля пользователей имевших более 1 сеанса равна **14.2%**\n",
    "\n",
    "Гипотеза: пользователи дальше начальной страницы не идут. Далее мы к этому вернемся, а пока продолжим изучать нашу ЦА\n"
   ]
  },
  {
   "cell_type": "code",
   "execution_count": 25,
   "metadata": {},
   "outputs": [
    {
     "name": "stdout",
     "output_type": "stream",
     "text": [
      "<class 'pandas.core.frame.DataFrame'>\n",
      "RangeIndex: 10 entries, 0 to 9\n",
      "Data columns (total 10 columns):\n",
      " #   Column                                                Non-Null Count  Dtype  \n",
      "---  ------                                                --------------  -----  \n",
      " 0   Язык                                                  10 non-null     object \n",
      " 1   Пользователи                                          10 non-null     int64  \n",
      " 2   Новые пользователи                                    10 non-null     int64  \n",
      " 3   Сеансы                                                10 non-null     int64  \n",
      " 4   Показатель отказов                                    10 non-null     float64\n",
      " 5   Страниц/сеанс                                         10 non-null     float64\n",
      " 6   Сред. длительность сеанса                             10 non-null     float64\n",
      " 7   Visit Social nets (Коэффициент конверсии для цели 1)  10 non-null     float64\n",
      " 8   Visit Social nets (Достигнутые переходы к цели 1)     10 non-null     int64  \n",
      " 9   Visit Social nets (Ценность цели 1)                   10 non-null     int64  \n",
      "dtypes: float64(4), int64(5), object(1)\n",
      "memory usage: 928.0+ bytes\n"
     ]
    }
   ],
   "source": [
    "# Посмотрим на датафрейм language\n",
    "users['Language'].info()"
   ]
  },
  {
   "cell_type": "code",
   "execution_count": 28,
   "metadata": {},
   "outputs": [
    {
     "data": {
      "text/html": [
       "<div>\n",
       "<style scoped>\n",
       "    .dataframe tbody tr th:only-of-type {\n",
       "        vertical-align: middle;\n",
       "    }\n",
       "\n",
       "    .dataframe tbody tr th {\n",
       "        vertical-align: top;\n",
       "    }\n",
       "\n",
       "    .dataframe thead th {\n",
       "        text-align: right;\n",
       "    }\n",
       "</style>\n",
       "<table border=\"1\" class=\"dataframe\">\n",
       "  <thead>\n",
       "    <tr style=\"text-align: right;\">\n",
       "      <th></th>\n",
       "      <th>Язык</th>\n",
       "      <th>Пользователи</th>\n",
       "      <th>Новые пользователи</th>\n",
       "      <th>Сеансы</th>\n",
       "      <th>Показатель отказов</th>\n",
       "      <th>Страниц/сеанс</th>\n",
       "      <th>Сред. длительность сеанса</th>\n",
       "      <th>Visit Social nets (Коэффициент конверсии для цели 1)</th>\n",
       "      <th>Visit Social nets (Достигнутые переходы к цели 1)</th>\n",
       "      <th>Visit Social nets (Ценность цели 1)</th>\n",
       "    </tr>\n",
       "  </thead>\n",
       "  <tbody>\n",
       "    <tr>\n",
       "      <th>0</th>\n",
       "      <td>ru-ru</td>\n",
       "      <td>218</td>\n",
       "      <td>217</td>\n",
       "      <td>376</td>\n",
       "      <td>0.002660</td>\n",
       "      <td>3.686170</td>\n",
       "      <td>148.039894</td>\n",
       "      <td>0.018617</td>\n",
       "      <td>7</td>\n",
       "      <td>0</td>\n",
       "    </tr>\n",
       "    <tr>\n",
       "      <th>1</th>\n",
       "      <td>en-us</td>\n",
       "      <td>201</td>\n",
       "      <td>201</td>\n",
       "      <td>231</td>\n",
       "      <td>0.000000</td>\n",
       "      <td>2.103896</td>\n",
       "      <td>20.991342</td>\n",
       "      <td>0.000000</td>\n",
       "      <td>0</td>\n",
       "      <td>0</td>\n",
       "    </tr>\n",
       "    <tr>\n",
       "      <th>2</th>\n",
       "      <td>en-gb</td>\n",
       "      <td>96</td>\n",
       "      <td>96</td>\n",
       "      <td>109</td>\n",
       "      <td>0.000000</td>\n",
       "      <td>2.403670</td>\n",
       "      <td>29.541284</td>\n",
       "      <td>0.018349</td>\n",
       "      <td>2</td>\n",
       "      <td>0</td>\n",
       "    </tr>\n",
       "    <tr>\n",
       "      <th>3</th>\n",
       "      <td>zh-cn</td>\n",
       "      <td>85</td>\n",
       "      <td>85</td>\n",
       "      <td>90</td>\n",
       "      <td>0.111111</td>\n",
       "      <td>1.888889</td>\n",
       "      <td>0.511111</td>\n",
       "      <td>0.000000</td>\n",
       "      <td>0</td>\n",
       "      <td>0</td>\n",
       "    </tr>\n",
       "    <tr>\n",
       "      <th>4</th>\n",
       "      <td>ru</td>\n",
       "      <td>64</td>\n",
       "      <td>64</td>\n",
       "      <td>96</td>\n",
       "      <td>0.000000</td>\n",
       "      <td>3.177083</td>\n",
       "      <td>137.583333</td>\n",
       "      <td>0.052083</td>\n",
       "      <td>5</td>\n",
       "      <td>0</td>\n",
       "    </tr>\n",
       "    <tr>\n",
       "      <th>5</th>\n",
       "      <td>de</td>\n",
       "      <td>9</td>\n",
       "      <td>9</td>\n",
       "      <td>11</td>\n",
       "      <td>0.000000</td>\n",
       "      <td>2.000000</td>\n",
       "      <td>9.909091</td>\n",
       "      <td>0.000000</td>\n",
       "      <td>0</td>\n",
       "      <td>0</td>\n",
       "    </tr>\n",
       "    <tr>\n",
       "      <th>6</th>\n",
       "      <td>fr-fr</td>\n",
       "      <td>9</td>\n",
       "      <td>9</td>\n",
       "      <td>10</td>\n",
       "      <td>0.000000</td>\n",
       "      <td>2.000000</td>\n",
       "      <td>10.100000</td>\n",
       "      <td>0.000000</td>\n",
       "      <td>0</td>\n",
       "      <td>0</td>\n",
       "    </tr>\n",
       "    <tr>\n",
       "      <th>7</th>\n",
       "      <td>it-it</td>\n",
       "      <td>9</td>\n",
       "      <td>9</td>\n",
       "      <td>10</td>\n",
       "      <td>0.000000</td>\n",
       "      <td>2.000000</td>\n",
       "      <td>9.900000</td>\n",
       "      <td>0.000000</td>\n",
       "      <td>0</td>\n",
       "      <td>0</td>\n",
       "    </tr>\n",
       "    <tr>\n",
       "      <th>8</th>\n",
       "      <td>fr</td>\n",
       "      <td>8</td>\n",
       "      <td>8</td>\n",
       "      <td>8</td>\n",
       "      <td>0.000000</td>\n",
       "      <td>2.000000</td>\n",
       "      <td>9.875000</td>\n",
       "      <td>0.000000</td>\n",
       "      <td>0</td>\n",
       "      <td>0</td>\n",
       "    </tr>\n",
       "    <tr>\n",
       "      <th>9</th>\n",
       "      <td>de-de</td>\n",
       "      <td>7</td>\n",
       "      <td>7</td>\n",
       "      <td>8</td>\n",
       "      <td>0.000000</td>\n",
       "      <td>2.000000</td>\n",
       "      <td>10.500000</td>\n",
       "      <td>0.000000</td>\n",
       "      <td>0</td>\n",
       "      <td>0</td>\n",
       "    </tr>\n",
       "  </tbody>\n",
       "</table>\n",
       "</div>"
      ],
      "text/plain": [
       "    Язык  Пользователи  Новые пользователи  Сеансы  Показатель отказов  \\\n",
       "0  ru-ru           218                 217     376            0.002660   \n",
       "1  en-us           201                 201     231            0.000000   \n",
       "2  en-gb            96                  96     109            0.000000   \n",
       "3  zh-cn            85                  85      90            0.111111   \n",
       "4     ru            64                  64      96            0.000000   \n",
       "5     de             9                   9      11            0.000000   \n",
       "6  fr-fr             9                   9      10            0.000000   \n",
       "7  it-it             9                   9      10            0.000000   \n",
       "8     fr             8                   8       8            0.000000   \n",
       "9  de-de             7                   7       8            0.000000   \n",
       "\n",
       "   Страниц/сеанс  Сред. длительность сеанса  \\\n",
       "0       3.686170                 148.039894   \n",
       "1       2.103896                  20.991342   \n",
       "2       2.403670                  29.541284   \n",
       "3       1.888889                   0.511111   \n",
       "4       3.177083                 137.583333   \n",
       "5       2.000000                   9.909091   \n",
       "6       2.000000                  10.100000   \n",
       "7       2.000000                   9.900000   \n",
       "8       2.000000                   9.875000   \n",
       "9       2.000000                  10.500000   \n",
       "\n",
       "   Visit Social nets (Коэффициент конверсии для цели 1)  \\\n",
       "0                                           0.018617      \n",
       "1                                           0.000000      \n",
       "2                                           0.018349      \n",
       "3                                           0.000000      \n",
       "4                                           0.052083      \n",
       "5                                           0.000000      \n",
       "6                                           0.000000      \n",
       "7                                           0.000000      \n",
       "8                                           0.000000      \n",
       "9                                           0.000000      \n",
       "\n",
       "   Visit Social nets (Достигнутые переходы к цели 1)  \\\n",
       "0                                                  7   \n",
       "1                                                  0   \n",
       "2                                                  2   \n",
       "3                                                  0   \n",
       "4                                                  5   \n",
       "5                                                  0   \n",
       "6                                                  0   \n",
       "7                                                  0   \n",
       "8                                                  0   \n",
       "9                                                  0   \n",
       "\n",
       "   Visit Social nets (Ценность цели 1)  \n",
       "0                                    0  \n",
       "1                                    0  \n",
       "2                                    0  \n",
       "3                                    0  \n",
       "4                                    0  \n",
       "5                                    0  \n",
       "6                                    0  \n",
       "7                                    0  \n",
       "8                                    0  \n",
       "9                                    0  "
      ]
     },
     "execution_count": 28,
     "metadata": {},
     "output_type": "execute_result"
    }
   ],
   "source": [
    "users['Language']"
   ]
  },
  {
   "cell_type": "code",
   "execution_count": 110,
   "metadata": {},
   "outputs": [
    {
     "data": {
      "text/plain": [
       "706"
      ]
     },
     "execution_count": 110,
     "metadata": {},
     "output_type": "execute_result"
    }
   ],
   "source": [
    "users['Language']['Пользователи'].sum()"
   ]
  },
  {
   "cell_type": "markdown",
   "metadata": {},
   "source": [
    "Данные:\n",
    "\n",
    "1) Пользователей всего **706** из **803** - значит не у всех пользователей система определила язык.\n",
    " \n",
    "2) Столбцы \"Пользователи\" и \"Новые пользователи\" практически ничем не отличаются (разница в 1 в одной строке)\n",
    "\n",
    "3) Построим столбчатые диаграммы по Пользователям, Сеансам, Страниц/сеанс и Сред. длительность сеанса.\n",
    "\n",
    "NOTE: Будем рассматривать только топ пять групп, так как остальные 5 занимают незначительную долю в целом.\n"
   ]
  },
  {
   "cell_type": "code",
   "execution_count": 149,
   "metadata": {},
   "outputs": [
    {
     "data": {
      "text/plain": [
       "Text(0.5, 1.0, 'Сеансы')"
      ]
     },
     "execution_count": 149,
     "metadata": {},
     "output_type": "execute_result"
    },
    {
     "data": {
      "image/png": "[encoded data removed]",
      "text/plain": [
       "<Figure size 864x864 with 4 Axes>"
      ]
     },
     "metadata": {
      "needs_background": "light"
     },
     "output_type": "display_data"
    }
   ],
   "source": [
    "fig, axes = plt.subplots(2, 2, figsize=(12, 12))\n",
    "fig.suptitle('Данные по языкавым группам')\n",
    "\n",
    "sns.barplot(ax = axes[0, 0], x = 'Язык', y = 'Пользователи', data = users['Language'].head(5))\n",
    "axes[0, 0].set_title('Пользователи')\n",
    "\n",
    "sns.barplot(ax = axes[0, 1], x = 'Язык', y = 'Сеансы', data = users['Language'].head(5))\n",
    "axes[0, 1].set_title('Сеансы')\n",
    "\n",
    "sns.barplot(ax = axes[1, 0], x = 'Язык', y = 'Страниц/сеанс', data = users['Language'].head(5))\n",
    "axes[1, 0].set_title('Пользователи')\n",
    "\n",
    "sns.barplot(ax = axes[1, 1], x = 'Язык', y = 'Сред. длительность сеанса', data = users['Language'].head(5))\n",
    "axes[1, 1].set_title('Сеансы')"
   ]
  },
  {
   "cell_type": "code",
   "execution_count": 147,
   "metadata": {},
   "outputs": [
    {
     "name": "stdout",
     "output_type": "stream",
     "text": [
      "35.1% - доля пользователей с русским языком \n",
      "37.0% - доля пользователей с английским языком\n"
     ]
    }
   ],
   "source": [
    "# Доля пользователей с русским языком\n",
    "rus = users['Language'][(users['Language']['Язык'] == 'ru-ru') | (users['Language']['Язык'] == 'ru')]['Пользователи'].sum()/803\n",
    "eng = users['Language'][(users['Language']['Язык'] == 'en-us') | (users['Language']['Язык'] == 'en-gb')]['Пользователи'].sum()/803\n",
    "\n",
    "print('{:.1%} - доля пользователей с русским языком \\n{:.1%} - доля пользователей с английским языком'.format(rus, eng))\n",
    "\n",
    "\n"
   ]
  },
  {
   "cell_type": "markdown",
   "metadata": {},
   "source": [
    "Выводы по графике:\n",
    "1) Как показывают рассчеты, английский язык занимает у нас большую долю от пользователей\n",
    "2) Доля русского языка на 1.9% меньше.\n",
    "3) Так как у нас из 803 пользователей язык не определен для 97. То окночательную пропорцию мы не знаем. Будем считать доли равными.\n",
    "3) Последний язык - это китайский. Скорее всего пользователи попали по ошибке.\n"
   ]
  },
  {
   "cell_type": "markdown",
   "metadata": {},
   "source": [
    "##### Возрастные группы"
   ]
  },
  {
   "cell_type": "code",
   "execution_count": 118,
   "metadata": {},
   "outputs": [
    {
     "name": "stdout",
     "output_type": "stream",
     "text": [
      "<class 'pandas.core.frame.DataFrame'>\n",
      "RangeIndex: 4 entries, 0 to 3\n",
      "Data columns (total 10 columns):\n",
      " #   Column                                                Non-Null Count  Dtype  \n",
      "---  ------                                                --------------  -----  \n",
      " 0   Возраст                                               4 non-null      object \n",
      " 1   Пользователи                                          4 non-null      int64  \n",
      " 2   Новые пользователи                                    4 non-null      int64  \n",
      " 3   Сеансы                                                4 non-null      int64  \n",
      " 4   Показатель отказов                                    4 non-null      int64  \n",
      " 5   Страниц/сеанс                                         4 non-null      float64\n",
      " 6   Сред. длительность сеанса                             4 non-null      float64\n",
      " 7   Visit Social nets (Коэффициент конверсии для цели 1)  4 non-null      float64\n",
      " 8   Visit Social nets (Достигнутые переходы к цели 1)     4 non-null      int64  \n",
      " 9   Visit Social nets (Ценность цели 1)                   4 non-null      int64  \n",
      "dtypes: float64(3), int64(6), object(1)\n",
      "memory usage: 448.0+ bytes\n"
     ]
    }
   ],
   "source": [
    "users['Age'].info()"
   ]
  },
  {
   "cell_type": "code",
   "execution_count": 123,
   "metadata": {},
   "outputs": [
    {
     "data": {
      "text/html": [
       "<div>\n",
       "<style scoped>\n",
       "    .dataframe tbody tr th:only-of-type {\n",
       "        vertical-align: middle;\n",
       "    }\n",
       "\n",
       "    .dataframe tbody tr th {\n",
       "        vertical-align: top;\n",
       "    }\n",
       "\n",
       "    .dataframe thead th {\n",
       "        text-align: right;\n",
       "    }\n",
       "</style>\n",
       "<table border=\"1\" class=\"dataframe\">\n",
       "  <thead>\n",
       "    <tr style=\"text-align: right;\">\n",
       "      <th></th>\n",
       "      <th>Возраст</th>\n",
       "      <th>Пользователи</th>\n",
       "      <th>Новые пользователи</th>\n",
       "      <th>Сеансы</th>\n",
       "      <th>Показатель отказов</th>\n",
       "      <th>Страниц/сеанс</th>\n",
       "      <th>Сред. длительность сеанса</th>\n",
       "      <th>Visit Social nets (Коэффициент конверсии для цели 1)</th>\n",
       "      <th>Visit Social nets (Достигнутые переходы к цели 1)</th>\n",
       "      <th>Visit Social nets (Ценность цели 1)</th>\n",
       "    </tr>\n",
       "  </thead>\n",
       "  <tbody>\n",
       "    <tr>\n",
       "      <th>0</th>\n",
       "      <td>25-34</td>\n",
       "      <td>39</td>\n",
       "      <td>37</td>\n",
       "      <td>70</td>\n",
       "      <td>0</td>\n",
       "      <td>3.971429</td>\n",
       "      <td>229.671429</td>\n",
       "      <td>0.042857</td>\n",
       "      <td>3</td>\n",
       "      <td>0</td>\n",
       "    </tr>\n",
       "    <tr>\n",
       "      <th>1</th>\n",
       "      <td>18-24</td>\n",
       "      <td>27</td>\n",
       "      <td>25</td>\n",
       "      <td>43</td>\n",
       "      <td>0</td>\n",
       "      <td>3.720930</td>\n",
       "      <td>256.395349</td>\n",
       "      <td>0.000000</td>\n",
       "      <td>0</td>\n",
       "      <td>0</td>\n",
       "    </tr>\n",
       "    <tr>\n",
       "      <th>2</th>\n",
       "      <td>35-44</td>\n",
       "      <td>18</td>\n",
       "      <td>15</td>\n",
       "      <td>54</td>\n",
       "      <td>0</td>\n",
       "      <td>2.518519</td>\n",
       "      <td>75.574074</td>\n",
       "      <td>0.018519</td>\n",
       "      <td>1</td>\n",
       "      <td>0</td>\n",
       "    </tr>\n",
       "    <tr>\n",
       "      <th>3</th>\n",
       "      <td>45-54</td>\n",
       "      <td>14</td>\n",
       "      <td>14</td>\n",
       "      <td>18</td>\n",
       "      <td>0</td>\n",
       "      <td>3.444444</td>\n",
       "      <td>36.444444</td>\n",
       "      <td>0.055556</td>\n",
       "      <td>1</td>\n",
       "      <td>0</td>\n",
       "    </tr>\n",
       "  </tbody>\n",
       "</table>\n",
       "</div>"
      ],
      "text/plain": [
       "  Возраст  Пользователи  Новые пользователи  Сеансы  Показатель отказов  \\\n",
       "0   25-34            39                  37      70                   0   \n",
       "1   18-24            27                  25      43                   0   \n",
       "2   35-44            18                  15      54                   0   \n",
       "3   45-54            14                  14      18                   0   \n",
       "\n",
       "   Страниц/сеанс  Сред. длительность сеанса  \\\n",
       "0       3.971429                 229.671429   \n",
       "1       3.720930                 256.395349   \n",
       "2       2.518519                  75.574074   \n",
       "3       3.444444                  36.444444   \n",
       "\n",
       "   Visit Social nets (Коэффициент конверсии для цели 1)  \\\n",
       "0                                           0.042857      \n",
       "1                                           0.000000      \n",
       "2                                           0.018519      \n",
       "3                                           0.055556      \n",
       "\n",
       "   Visit Social nets (Достигнутые переходы к цели 1)  \\\n",
       "0                                                  3   \n",
       "1                                                  0   \n",
       "2                                                  1   \n",
       "3                                                  1   \n",
       "\n",
       "   Visit Social nets (Ценность цели 1)  \n",
       "0                                    0  \n",
       "1                                    0  \n",
       "2                                    0  \n",
       "3                                    0  "
      ]
     },
     "execution_count": 123,
     "metadata": {},
     "output_type": "execute_result"
    }
   ],
   "source": [
    "users['Age']"
   ]
  },
  {
   "cell_type": "code",
   "execution_count": 129,
   "metadata": {},
   "outputs": [
    {
     "name": "stdout",
     "output_type": "stream",
     "text": [
      "Доля пользователей попавших в возрастную группу от всего числа пользователей 12.2%\n"
     ]
    }
   ],
   "source": [
    "print('Доля пользователей попавших в возрастную группу от всего числа пользователей {:.1%}'.format(users['Age']['Пользователи'].sum()/803))"
   ]
  },
  {
   "cell_type": "markdown",
   "metadata": {},
   "source": [
    "В возрастные группы у нас попало только **12.2%** пользователей от общего числа. Сейчас мы не можем однозначно выделить нашу целевую аудиторию по возрасту. Стоит предприянять шаги для отслеживания возраста, чтобы определить ЦА по возрасту."
   ]
  },
  {
   "cell_type": "markdown",
   "metadata": {},
   "source": [
    "##### Гендерные группы"
   ]
  },
  {
   "cell_type": "code",
   "execution_count": 130,
   "metadata": {},
   "outputs": [
    {
     "data": {
      "text/html": [
       "<div>\n",
       "<style scoped>\n",
       "    .dataframe tbody tr th:only-of-type {\n",
       "        vertical-align: middle;\n",
       "    }\n",
       "\n",
       "    .dataframe tbody tr th {\n",
       "        vertical-align: top;\n",
       "    }\n",
       "\n",
       "    .dataframe thead th {\n",
       "        text-align: right;\n",
       "    }\n",
       "</style>\n",
       "<table border=\"1\" class=\"dataframe\">\n",
       "  <thead>\n",
       "    <tr style=\"text-align: right;\">\n",
       "      <th></th>\n",
       "      <th>Пол</th>\n",
       "      <th>Пользователи</th>\n",
       "      <th>Новые пользователи</th>\n",
       "      <th>Сеансы</th>\n",
       "      <th>Показатель отказов</th>\n",
       "      <th>Страниц/сеанс</th>\n",
       "      <th>Сред. длительность сеанса</th>\n",
       "      <th>Visit Social nets (Коэффициент конверсии для цели 1)</th>\n",
       "      <th>Visit Social nets (Достигнутые переходы к цели 1)</th>\n",
       "      <th>Visit Social nets (Ценность цели 1)</th>\n",
       "    </tr>\n",
       "  </thead>\n",
       "  <tbody>\n",
       "    <tr>\n",
       "      <th>0</th>\n",
       "      <td>female</td>\n",
       "      <td>56</td>\n",
       "      <td>54</td>\n",
       "      <td>95</td>\n",
       "      <td>0</td>\n",
       "      <td>3.494737</td>\n",
       "      <td>114.778947</td>\n",
       "      <td>0.021053</td>\n",
       "      <td>2</td>\n",
       "      <td>0</td>\n",
       "    </tr>\n",
       "    <tr>\n",
       "      <th>1</th>\n",
       "      <td>male</td>\n",
       "      <td>54</td>\n",
       "      <td>53</td>\n",
       "      <td>113</td>\n",
       "      <td>0</td>\n",
       "      <td>3.433628</td>\n",
       "      <td>222.955752</td>\n",
       "      <td>0.035398</td>\n",
       "      <td>4</td>\n",
       "      <td>0</td>\n",
       "    </tr>\n",
       "  </tbody>\n",
       "</table>\n",
       "</div>"
      ],
      "text/plain": [
       "      Пол  Пользователи  Новые пользователи  Сеансы  Показатель отказов  \\\n",
       "0  female            56                  54      95                   0   \n",
       "1    male            54                  53     113                   0   \n",
       "\n",
       "   Страниц/сеанс  Сред. длительность сеанса  \\\n",
       "0       3.494737                 114.778947   \n",
       "1       3.433628                 222.955752   \n",
       "\n",
       "   Visit Social nets (Коэффициент конверсии для цели 1)  \\\n",
       "0                                           0.021053      \n",
       "1                                           0.035398      \n",
       "\n",
       "   Visit Social nets (Достигнутые переходы к цели 1)  \\\n",
       "0                                                  2   \n",
       "1                                                  4   \n",
       "\n",
       "   Visit Social nets (Ценность цели 1)  \n",
       "0                                    0  \n",
       "1                                    0  "
      ]
     },
     "execution_count": 130,
     "metadata": {},
     "output_type": "execute_result"
    }
   ],
   "source": [
    "users['Gender']"
   ]
  },
  {
   "cell_type": "code",
   "execution_count": 131,
   "metadata": {},
   "outputs": [
    {
     "name": "stdout",
     "output_type": "stream",
     "text": [
      "Доля пользователей попавших в гендерную группу от всего числа пользователей 13.7%\n"
     ]
    }
   ],
   "source": [
    "print('Доля пользователей попавших в гендерную группу от всего числа пользователей {:.1%}'.format(users['Gender']['Пользователи'].sum()/803))"
   ]
  },
  {
   "cell_type": "markdown",
   "metadata": {},
   "source": [
    "Здесь мы тоже не можем однозначно сказать какое распределение по полу у нашей ЦА.\n",
    "Но поскольку контент сайта не предполагает какую-то тематику, которая может быть интересна только одному полу. Мы эти данные использовать не будем"
   ]
  },
  {
   "cell_type": "markdown",
   "metadata": {},
   "source": [
    "### Выводы по ЦА части\n",
    "\n",
    "1. В среднем у нас **1.32** сеанса на пользователя\n",
    "2. Английский и Русский языки имеют практически равные доли. Значит нам необходимо учитывать английскую аудиторию.\n",
    "## 3. ЧЧЧЧЧЧЧЧЧЧЧЧЧЧЧЧЧЧЧЧЧЧЧЧЧ\n",
    "\n"
   ]
  },
  {
   "cell_type": "markdown",
   "metadata": {},
   "source": [
    "###  Тип устройства "
   ]
  },
  {
   "cell_type": "code",
   "execution_count": 152,
   "metadata": {},
   "outputs": [
    {
     "data": {
      "text/html": [
       "<div>\n",
       "<style scoped>\n",
       "    .dataframe tbody tr th:only-of-type {\n",
       "        vertical-align: middle;\n",
       "    }\n",
       "\n",
       "    .dataframe tbody tr th {\n",
       "        vertical-align: top;\n",
       "    }\n",
       "\n",
       "    .dataframe thead th {\n",
       "        text-align: right;\n",
       "    }\n",
       "</style>\n",
       "<table border=\"1\" class=\"dataframe\">\n",
       "  <thead>\n",
       "    <tr style=\"text-align: right;\">\n",
       "      <th></th>\n",
       "      <th>Тип устройства</th>\n",
       "      <th>Пользователи</th>\n",
       "      <th>Новые пользователи</th>\n",
       "      <th>Сеансы</th>\n",
       "      <th>Показатель отказов</th>\n",
       "      <th>Страниц/сеанс</th>\n",
       "      <th>Сред. длительность сеанса</th>\n",
       "      <th>Visit Social nets (Коэффициент конверсии для цели 1)</th>\n",
       "      <th>Visit Social nets (Достигнутые переходы к цели 1)</th>\n",
       "      <th>Visit Social nets (Ценность цели 1)</th>\n",
       "    </tr>\n",
       "  </thead>\n",
       "  <tbody>\n",
       "    <tr>\n",
       "      <th>0</th>\n",
       "      <td>desktop</td>\n",
       "      <td>427</td>\n",
       "      <td>425</td>\n",
       "      <td>628</td>\n",
       "      <td>0.001592</td>\n",
       "      <td>2.861465</td>\n",
       "      <td>110.391720</td>\n",
       "      <td>0.017516</td>\n",
       "      <td>11</td>\n",
       "      <td>0</td>\n",
       "    </tr>\n",
       "    <tr>\n",
       "      <th>1</th>\n",
       "      <td>mobile</td>\n",
       "      <td>359</td>\n",
       "      <td>360</td>\n",
       "      <td>414</td>\n",
       "      <td>0.024155</td>\n",
       "      <td>2.657005</td>\n",
       "      <td>22.635266</td>\n",
       "      <td>0.007246</td>\n",
       "      <td>3</td>\n",
       "      <td>0</td>\n",
       "    </tr>\n",
       "    <tr>\n",
       "      <th>2</th>\n",
       "      <td>tablet</td>\n",
       "      <td>17</td>\n",
       "      <td>17</td>\n",
       "      <td>21</td>\n",
       "      <td>0.000000</td>\n",
       "      <td>2.380952</td>\n",
       "      <td>84.904762</td>\n",
       "      <td>0.000000</td>\n",
       "      <td>0</td>\n",
       "      <td>0</td>\n",
       "    </tr>\n",
       "  </tbody>\n",
       "</table>\n",
       "</div>"
      ],
      "text/plain": [
       "  Тип устройства  Пользователи  Новые пользователи  Сеансы  \\\n",
       "0        desktop           427                 425     628   \n",
       "1         mobile           359                 360     414   \n",
       "2         tablet            17                  17      21   \n",
       "\n",
       "   Показатель отказов  Страниц/сеанс  Сред. длительность сеанса  \\\n",
       "0            0.001592       2.861465                 110.391720   \n",
       "1            0.024155       2.657005                  22.635266   \n",
       "2            0.000000       2.380952                  84.904762   \n",
       "\n",
       "   Visit Social nets (Коэффициент конверсии для цели 1)  \\\n",
       "0                                           0.017516      \n",
       "1                                           0.007246      \n",
       "2                                           0.000000      \n",
       "\n",
       "   Visit Social nets (Достигнутые переходы к цели 1)  \\\n",
       "0                                                 11   \n",
       "1                                                  3   \n",
       "2                                                  0   \n",
       "\n",
       "   Visit Social nets (Ценность цели 1)  \n",
       "0                                    0  \n",
       "1                                    0  \n",
       "2                                    0  "
      ]
     },
     "execution_count": 152,
     "metadata": {},
     "output_type": "execute_result"
    }
   ],
   "source": [
    "devices['DeviceType']"
   ]
  },
  {
   "cell_type": "code",
   "execution_count": 150,
   "metadata": {},
   "outputs": [
    {
     "name": "stdout",
     "output_type": "stream",
     "text": [
      "<class 'pandas.core.frame.DataFrame'>\n",
      "RangeIndex: 3 entries, 0 to 2\n",
      "Data columns (total 10 columns):\n",
      " #   Column                                                Non-Null Count  Dtype  \n",
      "---  ------                                                --------------  -----  \n",
      " 0   Тип устройства                                        3 non-null      object \n",
      " 1   Пользователи                                          3 non-null      int64  \n",
      " 2   Новые пользователи                                    3 non-null      int64  \n",
      " 3   Сеансы                                                3 non-null      int64  \n",
      " 4   Показатель отказов                                    3 non-null      float64\n",
      " 5   Страниц/сеанс                                         3 non-null      float64\n",
      " 6   Сред. длительность сеанса                             3 non-null      float64\n",
      " 7   Visit Social nets (Коэффициент конверсии для цели 1)  3 non-null      float64\n",
      " 8   Visit Social nets (Достигнутые переходы к цели 1)     3 non-null      int64  \n",
      " 9   Visit Social nets (Ценность цели 1)                   3 non-null      int64  \n",
      "dtypes: float64(4), int64(5), object(1)\n",
      "memory usage: 368.0+ bytes\n"
     ]
    }
   ],
   "source": [
    "devices['DeviceType'].info()"
   ]
  },
  {
   "cell_type": "markdown",
   "metadata": {},
   "source": [
    "У нас нет пропущенных значений. Теперь посчитаем количество пользователей"
   ]
  },
  {
   "cell_type": "code",
   "execution_count": 151,
   "metadata": {},
   "outputs": [
    {
     "data": {
      "text/plain": [
       "803"
      ]
     },
     "execution_count": 151,
     "metadata": {},
     "output_type": "execute_result"
    }
   ],
   "source": [
    "devices['DeviceType']['Пользователи'].sum()"
   ]
  },
  {
   "cell_type": "markdown",
   "metadata": {},
   "source": [
    "По типам устройств у нас все пользователи определены. Построим pie-диаграммы, чтобы оценить распределение"
   ]
  },
  {
   "cell_type": "code",
   "execution_count": null,
   "metadata": {},
   "outputs": [],
   "source": [
    "labels1 = 'desktop', '2 раза', '3 и более'\n",
    "sizes1 = [persent_one_start, persent_two_start, persent_three_start]\n",
    "labels2 = '1 раз', '2 раза', '3 и более'\n",
    "sizes2 = [persent_one_finish, persent_two_finish, persent_three_finish]\n",
    "\n",
    "fig, axes = plt.subplots(1, 2, figsize=(5,5))\n",
    "plt.subplots_adjust(bottom = -0.3, right = 3)\n",
    "axes[0].set_title('Процент пользователей по количеству стартов обучения')\n",
    "labels1 = '1 раз', '2 раза', '3 и более'\n",
    "sizes1 = [persent_one_start, persent_two_start, persent_three_start]\n",
    "axes[0].pie(sizes1, labels = labels1, autopct='%.2f%%',\n",
    "       shadow=True, startangle=90)\n",
    "axes[1].set_title('Процент пользователей по количеству завершений обучения')\n",
    "axes[1].pie(sizes2, labels = labels2, autopct='%.2f%%',\n",
    "        shadow=True, startangle=90)"
   ]
  },
  {
   "cell_type": "code",
   "execution_count": null,
   "metadata": {},
   "outputs": [],
   "source": []
  },
  {
   "cell_type": "code",
   "execution_count": null,
   "metadata": {},
   "outputs": [],
   "source": []
  },
  {
   "cell_type": "code",
   "execution_count": null,
   "metadata": {},
   "outputs": [],
   "source": []
  },
  {
   "cell_type": "code",
   "execution_count": null,
   "metadata": {},
   "outputs": [],
   "source": []
  },
  {
   "cell_type": "code",
   "execution_count": null,
   "metadata": {},
   "outputs": [],
   "source": []
  },
  {
   "cell_type": "code",
   "execution_count": null,
   "metadata": {},
   "outputs": [],
   "source": []
  },
  {
   "cell_type": "code",
   "execution_count": 85,
   "metadata": {},
   "outputs": [
    {
     "data": {
      "text/plain": [
       "Text(0.5, 1.0, 'Сеансы')"
      ]
     },
     "execution_count": 85,
     "metadata": {},
     "output_type": "execute_result"
    },
    {
     "data": {
      "image/png": "[encoded data removed]",
      "text/plain": [
       "<Figure size 1080x360 with 4 Axes>"
      ]
     },
     "metadata": {
      "needs_background": "light"
     },
     "output_type": "display_data"
    }
   ],
   "source": [
    "fig, axes = plt.subplots(1, 4, figsize=(15, 5))\n",
    "fig.suptitle('Данные по языкавым группам')\n",
    "\n",
    "sns.barplot(ax = axes[0], x = 'Язык', y = 'Пользователи', data = users['Language'].head(5))\n",
    "axes[0].set_title('Пользователи')\n",
    "\n",
    "sns.barplot(ax = axes[1], x = 'Язык', y = 'Сеансы', data = users['Language'].head(5))\n",
    "axes[1].set_title('Сеансы')\n",
    "#axes[1].set(yticklabels=[])\n",
    "\n",
    "sns.barplot(ax = axes[0], x = 'Язык', y = 'Пользователи', data = users['Language'].head(5))\n",
    "axes[2].set_title('Пользователи')\n",
    "\n",
    "sns.barplot(ax = axes[1], x = 'Язык', y = 'Сеансы', data = users['Language'].head(5))\n",
    "axes[3].set_title('Сеансы')\n",
    "\n",
    "\n"
   ]
  },
  {
   "cell_type": "code",
   "execution_count": null,
   "metadata": {},
   "outputs": [],
   "source": []
  },
  {
   "cell_type": "code",
   "execution_count": null,
   "metadata": {},
   "outputs": [],
   "source": []
  },
  {
   "cell_type": "code",
   "execution_count": null,
   "metadata": {},
   "outputs": [],
   "source": []
  },
  {
   "cell_type": "code",
   "execution_count": null,
   "metadata": {},
   "outputs": [],
   "source": []
  },
  {
   "cell_type": "code",
   "execution_count": null,
   "metadata": {},
   "outputs": [],
   "source": []
  },
  {
   "cell_type": "code",
   "execution_count": null,
   "metadata": {},
   "outputs": [],
   "source": []
  },
  {
   "cell_type": "code",
   "execution_count": null,
   "metadata": {},
   "outputs": [],
   "source": []
  },
  {
   "cell_type": "code",
   "execution_count": null,
   "metadata": {},
   "outputs": [],
   "source": []
  },
  {
   "cell_type": "code",
   "execution_count": null,
   "metadata": {},
   "outputs": [],
   "source": []
  },
  {
   "cell_type": "code",
   "execution_count": null,
   "metadata": {},
   "outputs": [],
   "source": []
  },
  {
   "cell_type": "code",
   "execution_count": null,
   "metadata": {},
   "outputs": [],
   "source": []
  },
  {
   "cell_type": "code",
   "execution_count": 80,
   "metadata": {},
   "outputs": [
    {
     "data": {
      "text/plain": [
       "Index(['Идентификатор клиента', 'Сеансы', 'Сред. длительность сеанса',\n",
       "       'Показатель отказов', 'Доход', 'Транзакции',\n",
       "       'Коэффициент конверсии цели'],\n",
       "      dtype='object')"
      ]
     },
     "execution_count": 80,
     "metadata": {},
     "output_type": "execute_result"
    }
   ],
   "source": [
    "data['Набор данных1'].columns"
   ]
  },
  {
   "cell_type": "code",
   "execution_count": 81,
   "metadata": {},
   "outputs": [
    {
     "data": {
      "text/plain": [
       "dict_keys(['Набор данных1'])"
      ]
     },
     "execution_count": 81,
     "metadata": {},
     "output_type": "execute_result"
    }
   ],
   "source": [
    "data.keys()"
   ]
  },
  {
   "cell_type": "code",
   "execution_count": 83,
   "metadata": {},
   "outputs": [
    {
     "name": "stdout",
     "output_type": "stream",
     "text": [
      "<class 'pandas.core.frame.DataFrame'>\n",
      "RangeIndex: 803 entries, 0 to 802\n",
      "Data columns (total 7 columns):\n",
      " #   Column                      Non-Null Count  Dtype  \n",
      "---  ------                      --------------  -----  \n",
      " 0   Идентификатор клиента       803 non-null    float64\n",
      " 1   Сеансы                      803 non-null    int64  \n",
      " 2   Сред. длительность сеанса   803 non-null    float64\n",
      " 3   Показатель отказов          803 non-null    int64  \n",
      " 4   Доход                       803 non-null    int64  \n",
      " 5   Транзакции                  803 non-null    int64  \n",
      " 6   Коэффициент конверсии цели  803 non-null    float64\n",
      "dtypes: float64(3), int64(4)\n",
      "memory usage: 44.0 KB\n"
     ]
    }
   ],
   "source": [
    "data['Набор данных1'].info()"
   ]
  },
  {
   "cell_type": "code",
   "execution_count": 76,
   "metadata": {},
   "outputs": [],
   "source": [
    "data['Набор данных1']['Сред. длительность сеанса'] = data['Набор данных1']['Сред. длительность сеанса'].apply(lambda x: x.second)"
   ]
  },
  {
   "cell_type": "code",
   "execution_count": 89,
   "metadata": {},
   "outputs": [
    {
     "data": {
      "text/html": [
       "<div>\n",
       "<style scoped>\n",
       "    .dataframe tbody tr th:only-of-type {\n",
       "        vertical-align: middle;\n",
       "    }\n",
       "\n",
       "    .dataframe tbody tr th {\n",
       "        vertical-align: top;\n",
       "    }\n",
       "\n",
       "    .dataframe thead th {\n",
       "        text-align: right;\n",
       "    }\n",
       "</style>\n",
       "<table border=\"1\" class=\"dataframe\">\n",
       "  <thead>\n",
       "    <tr style=\"text-align: right;\">\n",
       "      <th></th>\n",
       "      <th>Идентификатор клиента</th>\n",
       "      <th>Сеансы</th>\n",
       "      <th>Сред. длительность сеанса</th>\n",
       "      <th>Показатель отказов</th>\n",
       "      <th>Доход</th>\n",
       "      <th>Транзакции</th>\n",
       "      <th>Коэффициент конверсии цели</th>\n",
       "    </tr>\n",
       "  </thead>\n",
       "  <tbody>\n",
       "    <tr>\n",
       "      <th>count</th>\n",
       "      <td>8.030000e+02</td>\n",
       "      <td>803.000000</td>\n",
       "      <td>803.000000</td>\n",
       "      <td>803.000000</td>\n",
       "      <td>803.0</td>\n",
       "      <td>803.0</td>\n",
       "      <td>803.000000</td>\n",
       "    </tr>\n",
       "    <tr>\n",
       "      <th>mean</th>\n",
       "      <td>1.079216e+09</td>\n",
       "      <td>1.323786</td>\n",
       "      <td>46.170497</td>\n",
       "      <td>0.013699</td>\n",
       "      <td>0.0</td>\n",
       "      <td>0.0</td>\n",
       "      <td>0.156091</td>\n",
       "    </tr>\n",
       "    <tr>\n",
       "      <th>std</th>\n",
       "      <td>6.315912e+08</td>\n",
       "      <td>1.879080</td>\n",
       "      <td>180.566835</td>\n",
       "      <td>0.116309</td>\n",
       "      <td>0.0</td>\n",
       "      <td>0.0</td>\n",
       "      <td>0.460221</td>\n",
       "    </tr>\n",
       "    <tr>\n",
       "      <th>min</th>\n",
       "      <td>6.150793e+06</td>\n",
       "      <td>1.000000</td>\n",
       "      <td>0.000000</td>\n",
       "      <td>0.000000</td>\n",
       "      <td>0.0</td>\n",
       "      <td>0.0</td>\n",
       "      <td>0.000000</td>\n",
       "    </tr>\n",
       "    <tr>\n",
       "      <th>25%</th>\n",
       "      <td>5.065441e+08</td>\n",
       "      <td>1.000000</td>\n",
       "      <td>0.000000</td>\n",
       "      <td>0.000000</td>\n",
       "      <td>0.0</td>\n",
       "      <td>0.0</td>\n",
       "      <td>0.000000</td>\n",
       "    </tr>\n",
       "    <tr>\n",
       "      <th>50%</th>\n",
       "      <td>1.095813e+09</td>\n",
       "      <td>1.000000</td>\n",
       "      <td>10.000000</td>\n",
       "      <td>0.000000</td>\n",
       "      <td>0.0</td>\n",
       "      <td>0.0</td>\n",
       "      <td>0.000000</td>\n",
       "    </tr>\n",
       "    <tr>\n",
       "      <th>75%</th>\n",
       "      <td>1.638227e+09</td>\n",
       "      <td>1.000000</td>\n",
       "      <td>11.000000</td>\n",
       "      <td>0.000000</td>\n",
       "      <td>0.0</td>\n",
       "      <td>0.0</td>\n",
       "      <td>0.000000</td>\n",
       "    </tr>\n",
       "    <tr>\n",
       "      <th>max</th>\n",
       "      <td>2.147305e+09</td>\n",
       "      <td>41.000000</td>\n",
       "      <td>2150.500000</td>\n",
       "      <td>1.000000</td>\n",
       "      <td>0.0</td>\n",
       "      <td>0.0</td>\n",
       "      <td>4.000000</td>\n",
       "    </tr>\n",
       "  </tbody>\n",
       "</table>\n",
       "</div>"
      ],
      "text/plain": [
       "       Идентификатор клиента      Сеансы  Сред. длительность сеанса  \\\n",
       "count           8.030000e+02  803.000000                 803.000000   \n",
       "mean            1.079216e+09    1.323786                  46.170497   \n",
       "std             6.315912e+08    1.879080                 180.566835   \n",
       "min             6.150793e+06    1.000000                   0.000000   \n",
       "25%             5.065441e+08    1.000000                   0.000000   \n",
       "50%             1.095813e+09    1.000000                  10.000000   \n",
       "75%             1.638227e+09    1.000000                  11.000000   \n",
       "max             2.147305e+09   41.000000                2150.500000   \n",
       "\n",
       "       Показатель отказов  Доход  Транзакции  Коэффициент конверсии цели  \n",
       "count          803.000000  803.0       803.0                  803.000000  \n",
       "mean             0.013699    0.0         0.0                    0.156091  \n",
       "std              0.116309    0.0         0.0                    0.460221  \n",
       "min              0.000000    0.0         0.0                    0.000000  \n",
       "25%              0.000000    0.0         0.0                    0.000000  \n",
       "50%              0.000000    0.0         0.0                    0.000000  \n",
       "75%              0.000000    0.0         0.0                    0.000000  \n",
       "max              1.000000    0.0         0.0                    4.000000  "
      ]
     },
     "execution_count": 89,
     "metadata": {},
     "output_type": "execute_result"
    }
   ],
   "source": [
    "data['Набор данных1'].describe()"
   ]
  },
  {
   "cell_type": "code",
   "execution_count": null,
   "metadata": {},
   "outputs": [],
   "source": []
  }
 ],
 "metadata": {
  "kernelspec": {
   "display_name": "Python 3",
   "language": "python",
   "name": "python3"
  },
  "language_info": {
   "codemirror_mode": {
    "name": "ipython",
    "version": 3
   },
   "file_extension": ".py",
   "mimetype": "text/x-python",
   "name": "python",
   "nbconvert_exporter": "python",
   "pygments_lexer": "ipython3",
   "version": "3.8.3"
  }
 },
 "nbformat": 4,
 "nbformat_minor": 4
}
